{
 "cells": [
  {
   "cell_type": "markdown",
   "metadata": {},
   "source": [
    "# Eigenvalues and Eigenvectors\n",
    "\n",
    "- Problem 0 familiarizes you with calling functions from other files.\n",
    "- Problem 1 familiarizes you with the use of a relevant numpy function.\n",
    "- Problem 2 makes you manipulate and reflect upon a method used to find eigenvalues and eigenvectors.\n",
    "- Problem 3 asks you to assess the complexity of the QR method. \n",
    "- Problem 4 tests how you handle a loosely-defined coding task.\n",
    "\n",
    "\n",
    "#### Some questions ask you to write text to explain your solutions - do not skip these."
   ]
  },
  {
   "cell_type": "markdown",
   "metadata": {},
   "source": [
    "## Problem 0\n",
    "\n",
    "Goal: Be able to use functions from another file and to call the function correctly using information from its docstring.\n",
    "\n",
    "Tasks: \n",
    "\n",
    "i) Import the function `testcreate1` from the file SEE125_eig_lib.py\n",
    "\n",
    "ii) Print the function's docstring. Hint: you can use the name of the function followed by `?`.\n",
    "\n",
    "iii) Call the function to create a 4x4 matrix whose 0-0 element is the square root of 21. Store the result in a matrix named `A`.\n",
    "\n",
    "For information on docstrings, see https://www.geeksforgeeks.org/python-docstrings/"
   ]
  },
  {
   "cell_type": "code",
   "execution_count": 11,
   "metadata": {},
   "outputs": [
    {
     "name": "stdout",
     "output_type": "stream",
     "text": [
      " Create a square matrix where \n",
      "        each element's value is the square root of the \n",
      "        previous elements'value increased by 1. \n",
      "\n",
      "        Parameters: \n",
      "                n -- the shape of the matrix will be (n,n) (int)\n",
      "                val2 -- the square root of this number will be the first matrix \n",
      "                        element at row 0, column 0 (float, positive or zero)\n",
      "        Returns: \n",
      "                numpy array of size (n,n)\n",
      "\n",
      "    \n"
     ]
    }
   ],
   "source": [
    "### YOUR CODE HERE\n",
    "from SEE125_eig_lib import testcreate\n",
    "import numpy as np\n",
    "print(testcreate.__doc__)\n",
    "\n",
    "A = testcreate(4, 21)"
   ]
  },
  {
   "cell_type": "markdown",
   "metadata": {},
   "source": [
    "## Problem 1\n",
    "\n",
    "Goal: Correct usage of `numpy.linalg.eig` and demonstration of understanding of the result.\n",
    "\n",
    "Background: \n",
    "The normalized direct power method is an iterative method that allows to find the _largest_ eigenvalue of a matrix, and its corresponding eigenvector. We described it during the lecture and implemented it using the following algorithm:\n",
    "\n",
    "$$\n",
    "\\pmb{z}^{(k)} = \\pmb{Aq}^{(k-1)} \\\\\n",
    "\\pmb{q}^{(k)} = \\frac{\\pmb{z}^{(k)}}{\\|\\pmb{z}^{(k)}\\|} \\\\\n",
    "\\mu(\\pmb{q}^{(k)}) = [\\pmb{q}^{(k)}]^T\\pmb{Aq}^{(k)}\n",
    "$$\n",
    "\n",
    "Note: Remember that $^{(k)}$ means the $k^{th}$ iteration. The value $\\mu(\\pmb{q}^{(k)})$ tends toward the largest eigenvalue as $k$ increases.\n",
    "\n",
    "We have implemented this method in the function `power` in the SEE125_eig_lib.py library (code based on page 180).\n",
    "\n",
    "Tasks:\n",
    "\n",
    "i) Import the function `power` from the SEE125_eig_lib.py file.\n",
    "\n",
    "ii) Run it on the matrix `B = np.array([[3,2],[0,1]])`.\n",
    "\n",
    "iii) Compare the resulting eigenvalue and eigenvector with the output from `numpy.linalg.eig`.\n",
    "\n",
    "Hint: The numpy function returns all eigenvalues and eigenvectors but you only need the largest eigenvalue and its eigenvector. "
   ]
  },
  {
   "cell_type": "code",
   "execution_count": 2,
   "metadata": {},
   "outputs": [
    {
     "name": "stdout",
     "output_type": "stream",
     "text": [
      "1 [0.98058068 0.19611614]\n",
      "2 [0.99827437 0.05872202]\n",
      "3 [0.99982205 0.01886457]\n",
      "4 [0.99998071 0.00621106]\n",
      "5 [0.99999787 0.00206185]\n",
      "Largets eigenvalue from power 3.004115191347896, eigenvector from power[0.99999787 0.00206185], largest eigenvalue from linalg 3.0, eigenvector from linalg [1. 0.]\n"
     ]
    }
   ],
   "source": [
    "### BEGIN SOLUTION #####\n",
    "from SEE125_eig_lib import power\n",
    "B = np.array([[3,2], [0,1]])\n",
    "eig_power, vector_power = power(B)\n",
    "\n",
    "def largest_eig (A):\n",
    "    eig_linalg_1 = np.linalg.eig(A)\n",
    "    eig_values_1 = eig_linalg_1[0]\n",
    "    eig_largest_1, index_1 = np.max(eig_values_1), np.argmax(eig_values_1)\n",
    "    eig_vec_largest_1 = eig_linalg_1[1][:, index_1]\n",
    "    return eig_largest_1, eig_vec_largest_1\n",
    "\n",
    "eigval, eigvec = largest_eig(B)\n",
    "\n",
    "\n",
    "print(\"Largets eigenvalue from power {}, eigenvector from power{}, largest eigenvalue from linalg {}, eigenvector from linalg {}\".format(eig_power, vector_power, eigval, eigvec))\n",
    " \n",
    "\n",
    "\n",
    "### END SOLUTION ####"
   ]
  },
  {
   "cell_type": "markdown",
   "metadata": {
    "tags": []
   },
   "source": [
    "## Problem 2\n",
    "\n",
    "Goal: Identify a problem in the implementation of an algorithm and correct it. \n",
    "\n",
    "Background: \n",
    "\n",
    "Here we have implemented the power method but, instead on iterating $k$ until reaching some preset maximum number of iterations, the iterative process stops automatically when a convergence criterion is reached. This criterion is:\n",
    "\n",
    "$$\n",
    "\\sum_{j=0}^{n-1} \\Bigg| \\frac{q_j^{(k)} - q_j^{(k-1)}}{q_j^{(k)}} \\Bigg| \\leq \\epsilon \n",
    "$$\n",
    "\n",
    "It means that the iteration should stop once the relative difference between $\\pmb{q}$ at two successive iterations is negligible ($\\epsilon$ conventionally refers to a value close to $0$).\n",
    "\n",
    "- The function prints the total number of iterations needed to reach the criterion and return the eigenvalue and its corresponding eigenvector.\n",
    "- If the solution fails to converge, the function prints that the convergence failed and returns `None` as eigenvalue and eigenvector.  \n",
    "\n",
    "### 1.1\n",
    "\n",
    "Write a docstring for the function explaining the function inputs and outputs so that future users would better understand its usage.  For examples of how to write docstrings you can check out this link: https://www.geeksforgeeks.org/python-docstrings/"
   ]
  },
  {
   "cell_type": "code",
   "execution_count": 3,
   "metadata": {},
   "outputs": [],
   "source": [
    "def powercrit(A, ceps=1e-8, kmax=50): \n",
    "    ### BEGIN SOLUTION ###\n",
    "    ''' A power function with a criterion for stopping the iteration. Takes in a matrix, a number of max iterations and an epsilion criterion and using the power for finding the largest eigen value and the respective eigen vector'''\n",
    "    ''' Starts of with an intial guess zs and normalizzed to qs '''\n",
    "    \n",
    "    ''' zs = intial guess\n",
    "        qs = returned eigenvector\n",
    "        lam = returned largest eigenvalue'''\n",
    "    ### END SOLUTION ###\n",
    "    \n",
    "    zs = np.ones(A.shape[0])#the initial guess\n",
    "    \n",
    "    qs = zs/np.linalg.norm(zs)\n",
    "    # This is the power method with the new convergence criterion    \n",
    "    for k in range(kmax): # also keep a max of iteration\n",
    "        zs = A@qs\n",
    "        qskm1 = qs\n",
    "        qs = zs/np.linalg.norm(zs)  \n",
    "        crit = np.sum(np.linalg.norm(qs-qskm1)/np.linalg.norm(qs))\n",
    "        crit_1 = np.sum(np.linalg.norm(qs + qskm1)/np.linalg.norm(qs))\n",
    "\n",
    "        print(crit, qs)\n",
    "        if (crit<ceps or crit_1<ceps):\n",
    "            lam = qs.T@A@qs # same as qs@A@qs, Python will transpose\n",
    "            print('Convergence reached after {:d} iterations'.format(k+1))\n",
    "            break\n",
    "    else:     \n",
    "        lam = qs = None\n",
    "        print('Convergence failed')\n",
    "    \n",
    "    return lam, qs\n",
    "\n",
    "\n",
    "\n"
   ]
  },
  {
   "cell_type": "markdown",
   "metadata": {},
   "source": [
    "## 1.2\n",
    "\n",
    "Compare the results of `powercrit(A)`, where `A` is the matrix from Problem 0, to the results from `numpy.linalg.eig(A)`. Write a comment on how you find the comparison."
   ]
  },
  {
   "cell_type": "code",
   "execution_count": 4,
   "metadata": {},
   "outputs": [
    {
     "name": "stdout",
     "output_type": "stream",
     "text": [
      "0.0790278300700733 [0.44421209 0.48212489 0.51726163 0.55015599]\n",
      "0.0002489301676207158 [0.4443962  0.4821814  0.5172089  0.55000734]\n",
      "7.851497310858968e-07 [0.44439562 0.48218122 0.51720907 0.55000781]\n",
      "2.4763976286820732e-09 [0.44439562 0.48218122 0.51720906 0.55000781]\n",
      "Convergence reached after 4 iterations\n",
      "Largets eigenvalue from power 21.316662663461862, eigenvector from power[0.44439562 0.48218122 0.51720906 0.55000781], largest eigenvalue from linalg 21.31666266345205, eigenvector from linalg [0.44439562 0.48218122 0.51720906 0.55000781]\n"
     ]
    }
   ],
   "source": [
    "# The matrix to work on, please keep these parameters\n",
    "A = testcreate(4, 21)\n",
    "# With $\\epsilon = 10^{-8}$ and the matrix `A = testcreate(4, 21)`, \n",
    "# the solution should be found in $4$ iterations.\n",
    "\n",
    "\n",
    "### BEGIN SOLUTION ###\n",
    "\n",
    "eig_val_1_power, eig_vec_1_power = powercrit(A)\n",
    "val, vec = largest_eig(A)\n",
    "\n",
    "print(\"Largets eigenvalue from power {}, eigenvector from power{}, largest eigenvalue from linalg {}, eigenvector from linalg {}\".format(eig_val_1_power, eig_vec_1_power, val, vec ))\n",
    "\n",
    "\n",
    "\n",
    "\n",
    "\n",
    "### END SOLUTION ###"
   ]
  },
  {
   "cell_type": "markdown",
   "metadata": {},
   "source": [
    "### 1.2\n",
    "\n",
    "The implementation above is problematic. Running `powercrit(-A)` where A is the matrix you created in Problem 0 should give a result that converges after 4 iterations. Instead the code does not converge. \n",
    "\n",
    "i) Find the problem and explain in a few sentences what it is.\n",
    "\n",
    "ii) Edit the function so that the solution converges. Explain in a sentence or two the logic behind the solution.\n",
    "\n",
    "iii) Show that the eigenvalue and eigenvector of your corrected function is consistent with the result from `numpy.linalg.eig`.  \n",
    "\n",
    "Hint: Update your function to print $\\pmb{q}^{(k-1)}$, $\\pmb{q}^{(k)}$ and $\\mu(\\pmb{q}^{(k)})$ at each iteration (and any other parameter that you think could help).\n",
    "\n"
   ]
  },
  {
   "cell_type": "code",
   "execution_count": 5,
   "metadata": {},
   "outputs": [
    {
     "name": "stdout",
     "output_type": "stream",
     "text": [
      "powercrit -A\n",
      "1.9984380405893036 [-0.44421209 -0.48212489 -0.51726163 -0.55015599]\n",
      "1.9999999845084429 [0.4443962  0.4821814  0.5172089  0.55000734]\n",
      "1.9999999999998461 [-0.44439562 -0.48218122 -0.51720907 -0.55000781]\n",
      "2.0 [0.44439562 0.48218122 0.51720906 0.55000781]\n",
      "Convergence reached after 4 iterations\n"
     ]
    },
    {
     "data": {
      "text/plain": [
       "'If the eigenvalues is negative'"
      ]
     },
     "execution_count": 5,
     "metadata": {},
     "output_type": "execute_result"
    }
   ],
   "source": [
    "print('powercrit -A')\n",
    "eigenval, eigenvec = powercrit(-A)\n",
    "\n",
    "\n",
    "### BEGIN SOLUTION ###\n",
    "\"The vector qs keeps switching sign aka keeps shfiting 180 degrees making it not converge to anything\"\n",
    "\"The way to solve this problem is to keep qs always positive and taking the absolute value of it. The qs - qskm1 will also chagne if qs change because \"\n",
    "\"If the eigenvalues is negative\"\n",
    "\n",
    "\n",
    "### END SOLUTION ###"
   ]
  },
  {
   "cell_type": "markdown",
   "metadata": {},
   "source": [
    "### 1.3\n",
    "\n",
    "Add your final version of the function powercrit to the SEE125_eig_lib.py and test that it imports correctly here. You may need to restart the notebook kernel after you update that file."
   ]
  },
  {
   "cell_type": "code",
   "execution_count": 3,
   "metadata": {},
   "outputs": [
    {
     "name": "stdout",
     "output_type": "stream",
     "text": [
      "1.5700924586837752e-16 [0.70710678 0.70710678]\n",
      "Convergence reached after 1 iterations\n"
     ]
    }
   ],
   "source": [
    "### YOUR CODE HERE\n",
    "from SEE125_eig_lib import powercrit\n",
    "import numpy as np\n",
    "\n",
    "A = np.ones((2,2))\n",
    "\n",
    "A = powercrit(A)"
   ]
  },
  {
   "cell_type": "markdown",
   "metadata": {},
   "source": [
    "# Problem 4\n",
    "\n",
    "Goal: Evaluate the complexity of an algorithm.\n",
    "\n",
    "The QR method is an iterative method that allows you to find all eigenvalues and eigenvectors of a matrix. The implementation we discussed in class (and which is in the book in section 4.4.3) is a simple one, and not very efficient. \n",
    "\n",
    "Follow the steps below to get a rough estimate of how the runtime scales with size of the input matrix. \n",
    "\n",
    "## 4.1\n",
    "\n",
    "Create diagonal square matrices of different sizes (example starting code below)."
   ]
  },
  {
   "cell_type": "code",
   "execution_count": 30,
   "metadata": {},
   "outputs": [
    {
     "name": "stdout",
     "output_type": "stream",
     "text": [
      "[[2. 0. 0. 0. 0. 0. 0. 0. 0. 0.]\n",
      " [0. 2. 0. 0. 0. 0. 0. 0. 0. 0.]\n",
      " [0. 0. 2. 0. 0. 0. 0. 0. 0. 0.]\n",
      " [0. 0. 0. 2. 0. 0. 0. 0. 0. 0.]\n",
      " [0. 0. 0. 0. 2. 0. 0. 0. 0. 0.]\n",
      " [0. 0. 0. 0. 0. 2. 0. 0. 0. 0.]\n",
      " [0. 0. 0. 0. 0. 0. 2. 0. 0. 0.]\n",
      " [0. 0. 0. 0. 0. 0. 0. 2. 0. 0.]\n",
      " [0. 0. 0. 0. 0. 0. 0. 0. 2. 0.]\n",
      " [0. 0. 0. 0. 0. 0. 0. 0. 0. 2.]]\n"
     ]
    },
    {
     "data": {
      "image/png": "[encoded data removed]",
      "text/plain": [
       "<Figure size 640x480 with 1 Axes>"
      ]
     },
     "metadata": {},
     "output_type": "display_data"
    }
   ],
   "source": [
    "import matplotlib.pyplot as plt\n",
    "%matplotlib inline\n",
    "\n",
    "# Use this simple matrix, which you can scale up for the test\n",
    "A = np.zeros((10,10))\n",
    "# fill the diagonal of the matrix with the value 2\n",
    "np.fill_diagonal(A,2)\n",
    "\n",
    "print(A)\n",
    "\n",
    "plt.imshow(A)\n",
    "plt.show()"
   ]
  },
  {
   "cell_type": "markdown",
   "metadata": {},
   "source": [
    "### 4.2\n",
    "\n",
    "Run the `qrmet` function from the SEE125_eig_lib.py file on each of the matrices and time it. "
   ]
  },
  {
   "cell_type": "code",
   "execution_count": 62,
   "metadata": {},
   "outputs": [
    {
     "name": "stdout",
     "output_type": "stream",
     "text": [
      "{10: 0.022719860076904297, 12: 0.03069901466369629, 14: 0.03897809982299805, 16: 0.051045894622802734, 18: 0.06510210037231445, 20: 0.07056879997253418, 22: 0.09003710746765137, 24: 0.10791921615600586, 26: 0.11539506912231445, 28: 0.13056302070617676, 30: 0.15146589279174805, 32: 0.17112398147583008, 34: 0.19038009643554688, 36: 0.21296000480651855, 38: 0.2389209270477295, 40: 0.2646768093109131, 42: 0.2920722961425781, 44: 0.3206052780151367, 46: 0.34917235374450684, 48: 0.3792750835418701, 50: 0.4095649719238281, 52: 0.44173598289489746, 54: 0.48303890228271484, 56: 0.5182909965515137, 58: 0.571293830871582, 60: 0.5963881015777588}\n"
     ]
    }
   ],
   "source": [
    "import time \n",
    "from SEE125_eig_lib import qrmet\n",
    "### BEGIN SOLUTION\n",
    "def matrix(n, number):\n",
    "    A = np.zeros((n,n))\n",
    "    np.fill_diagonal(A,number)\n",
    "    return A\n",
    "\n",
    "iterations = 0\n",
    "intervall = 2\n",
    "startvalue = 10\n",
    "timeArray = {}\n",
    "for i in range(startvalue, iterations + 1, intervall):\n",
    "    start = time.time()\n",
    "    qrmet(matrix(i, 2))\n",
    "    end =time.time()\n",
    "    timeArray[i] = end - start\n",
    "\n",
    "print(timeArray)\n",
    "       \n",
    "### END SOLUTION ###"
   ]
  },
  {
   "cell_type": "markdown",
   "metadata": {},
   "source": [
    "### 4.3\n",
    "\n",
    "i) Produce a plot comparing the runtimes as a function of input matrix size and comment on what the scaling behavior is. Use a log axis for the runtimes so that one can see the points clearly.\n",
    "\n",
    "ii) Overplot a line corresponding to your best-guess scaling to show the match with the points.\n",
    "\n",
    "iii) Compare the runtimes with those of the numpy function `numpy.linalg.eig` applied on the same matrices.  \n",
    "\n",
    "iv) How does your answer compare to what is found in the operation count section in page 203 of the textbook? "
   ]
  },
  {
   "cell_type": "code",
   "execution_count": 24,
   "metadata": {},
   "outputs": [
    {
     "data": {
      "image/png": "[encoded data removed]",
      "text/plain": [
       "<Figure size 640x480 with 1 Axes>"
      ]
     },
     "metadata": {},
     "output_type": "display_data"
    }
   ],
   "source": [
    "### BEGIN SOLUTION ###\n",
    "import matplotlib.pyplot as plt\n",
    "\n",
    "plt.figure()\n",
    "\n",
    "plt.yscale('log')\n",
    "plt.xscale('log')\n",
    "plt.ylabel(\"logarithmic runtime\")\n",
    "plt.xlabel(\"Matrix size\")\n",
    "\n",
    "plt.scatter(timeArray.keys(), timeArray.values(), label=\"Data\")\n",
    "x = np.linspace(0, max(timeArray.keys()), 100)\n",
    "y = np.power(x, 2)/2000\n",
    "plt.plot(x,y)\n",
    "\n",
    "\n",
    "iterations = 60\n",
    "intervall = 2\n",
    "startvalue = 10\n",
    "timeArray_linalg = {}\n",
    "for i in range(startvalue, iterations + 1, intervall):\n",
    "    start = time.time()\n",
    "    np.linalg.eig(matrix(i,2))\n",
    "    end =time.time()\n",
    "    timeArray_linalg[i] = end - start\n",
    "\n",
    "\n",
    "arraydiff = np.array([ timeArray[i] - timeArray_linalg[i] for i in range(startvalue, max(timeArray.keys()), intervall ) ])\n",
    "### END SOLUTION ###"
   ]
  },
  {
   "cell_type": "markdown",
   "metadata": {},
   "source": [
    "# Problem 5\n",
    "\n",
    "Goal: Get creative! Show us you are able to choose how to design and code a solution to a loosely-defined task. \n",
    "\n",
    "\n",
    "### 5.1\n",
    "\n",
    "Come up with a way to visualize the QR method in Python and explain it so that your fellow students will understand.\n",
    "\n",
    "### 5.2 \n",
    "\n",
    "Write comments in your code so that another student can understand what your vizualization does. If you make plots add labels and titles that explain what is shown.\n",
    "\n",
    "You can choose to focus on any aspect of the algorithm (be it one of the matrices in the iteration, the eigenvalues etc). You can use the `qrmet` function provided in the SEE125_eig_lib.py file as a starting point."
   ]
  },
  {
   "cell_type": "code",
   "execution_count": 150,
   "metadata": {},
   "outputs": [
    {
     "name": "stdout",
     "output_type": "stream",
     "text": [
      "EigResult(eigenvalues=array([12.48275553, -0.31155227, -6.17120325]), eigenvectors=array([[-0.23394682,  0.82582406, -0.05041647],\n",
      "       [-0.81856911,  0.02194499, -0.61001272],\n",
      "       [-0.52460795, -0.5635007 ,  0.7907861 ]]))\n",
      "[[ 6.18918919 10.88272751 11.6505893  12.49864366 12.37289727 12.51250274\n",
      "  12.4619828  12.49154894 12.47804661]\n",
      " [-0.11968154 -4.58091164 -5.33960508 -6.1871182  -6.0613464  -6.20095053\n",
      "  -6.15043053 -6.17999667 -6.16649434]\n",
      " [-0.06950765 -0.30181588 -0.31098422 -0.31152546 -0.31155087 -0.3115522\n",
      "  -0.31155227 -0.31155227 -0.31155227]]\n"
     ]
    },
    {
     "data": {
      "text/plain": [
       "Text(0.5, 1.0, 'Convergance of eigenvalues through QR')"
      ]
     },
     "execution_count": 150,
     "metadata": {},
     "output_type": "execute_result"
    },
    {
     "data": {
      "image/png": "[encoded data removed]",
      "text/plain": [
       "<Figure size 640x480 with 1 Axes>"
      ]
     },
     "metadata": {},
     "output_type": "display_data"
    }
   ],
   "source": [
    "### BEGIN SOLUTION ####\n",
    "from SEE125_eig_lib import qrdec, mag, qrmet\n",
    "import numpy as np\n",
    "\n",
    "dim = 5\n",
    "A = np.array([1,2,2,6,5,9,0,8,0]).reshape(3,3).astype(float)\n",
    "iterations = 10\n",
    "\n",
    "def qrmet_1(inA,iterations):\n",
    "    '''\n",
    "    QR method (page 202)\n",
    "    '''\n",
    "    result = []\n",
    "    A = np.copy(inA)\n",
    "    for k in range(1,iterations):\n",
    "        Q, R = qrdec(A)\n",
    "        A = R@Q\n",
    "        result.append(np.array(np.diag(A)))\n",
    "    \n",
    "        #print(k, np.diag(A))\n",
    "    \n",
    "    return np.array(result)\n",
    "\n",
    "\n",
    "x = np.arange(1, iterations, 1)\n",
    "\n",
    "eigenvalues = qrmet_1(A, iterations)\n",
    "eigenvalues_T = eigenvalues.T\n",
    "\n",
    "for i in range(0, len(eigenvalues_T)):\n",
    "    plt.plot(x, eigenvalues_T[i])\n",
    "\n",
    "print(np.linalg.eig(A))\n",
    "print(eigenvalues_T)\n",
    "\n",
    "plt.xlabel(\"Number of iterations\")\n",
    "plt.ylabel(\"Eigenvalues\")\n",
    "plt.title(\"Convergance of eigenvalues through QR\")\n",
    "\n",
    "\n",
    "\n",
    "### END SOLUTION ###\n"
   ]
  },
  {
   "cell_type": "code",
   "execution_count": null,
   "metadata": {},
   "outputs": [],
   "source": [
    "\"Plots all the points for convergance. We see that the more the iterations increase the more it converages to a certain value\""
   ]
  }
 ],
 "metadata": {
  "kernelspec": {
   "display_name": "Python 3",
   "language": "python",
   "name": "python3"
  },
  "language_info": {
   "codemirror_mode": {
    "name": "ipython",
    "version": 3
   },
   "file_extension": ".py",
   "mimetype": "text/x-python",
   "name": "python",
   "nbconvert_exporter": "python",
   "pygments_lexer": "ipython3",
   "version": "3.9.6"
  }
 },
 "nbformat": 4,
 "nbformat_minor": 5
}
