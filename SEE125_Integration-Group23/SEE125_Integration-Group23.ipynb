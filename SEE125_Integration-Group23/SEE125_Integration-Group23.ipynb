{
 "cells": [
  {
   "cell_type": "markdown",
   "metadata": {},
   "source": [
    "# Part 3: Trends in sea levels - class-wide results and peer feedback"
   ]
  },
  {
   "cell_type": "markdown",
   "metadata": {},
   "source": [
    "## Assignment overview\n",
    "\n",
    "* In Problem A you are guided through a set of coding tasks looking deeper into the sea level data.  \n",
    "\n",
    "* In Problem B you will use results from Problem A and knowledge from the lectures on integration.\n",
    "\n",
    "* Finally you will provide peer feedback on Parts 1, 2, following the instructions provided below.\n",
    "\n",
    "\n",
    "You'll notice there are fewer coding problems in this assignment, because you also will need to complete the peer review part, described at the end."
   ]
  },
  {
   "cell_type": "markdown",
   "metadata": {},
   "source": [
    "Before you turn this problem set in, make sure everything runs as expected. First, **restart the kernel** (in the menubar, select Kernel$\\rightarrow$Restart) and then **run all cells** (in the menubar, select Cell$\\rightarrow$Run All).\n",
    "\n",
    "Make sure you fill in any place that says `YOUR CODE HERE` or \"YOUR ANSWER HERE\", \n",
    "as well as your name(s) and group number in the cell below:"
   ]
  },
  {
   "cell_type": "code",
   "execution_count": 1,
   "metadata": {},
   "outputs": [],
   "source": [
    "NAMES = \"Carl Örnberg Jonathan Nguyen\"                # fill in your name(s) between the quotes, comma separated if more than one\n",
    "GROUP = \"23\"                # fill in your group number between the quotes"
   ]
  },
  {
   "cell_type": "markdown",
   "metadata": {},
   "source": [
    "## Problem A"
   ]
  },
  {
   "cell_type": "markdown",
   "metadata": {},
   "source": [
    "Class results on sea levels are in! If you want, you can check them out in this [online spreadsheet](\n",
    "https://chalmers-my.sharepoint.com/:x:/g/personal/georgiap_chalmers_se/EUPggXeTGaJItdfHz0nHYDMBbaE5wrBIoFvFgGa9NGEp6Q?e=w2Zfon). (You'll need to log in with your Chalmers CID)"
   ]
  },
  {
   "cell_type": "markdown",
   "metadata": {},
   "source": [
    "## A.1 Data exploration\n",
    "\n",
    "Whenever one encounters a new dataset, it is a good idea to examine it. To make some simple plots to see if there are any quirks in the data."
   ]
  },
  {
   "cell_type": "code",
   "execution_count": 2,
   "metadata": {},
   "outputs": [],
   "source": [
    "import numpy as np\n",
    "import matplotlib.pyplot as plt\n"
   ]
  },
  {
   "cell_type": "code",
   "execution_count": 3,
   "metadata": {},
   "outputs": [
    {
     "data": {
      "text/html": [
       "<div>\n",
       "<style scoped>\n",
       "    .dataframe tbody tr th:only-of-type {\n",
       "        vertical-align: middle;\n",
       "    }\n",
       "\n",
       "    .dataframe tbody tr th {\n",
       "        vertical-align: top;\n",
       "    }\n",
       "\n",
       "    .dataframe thead th {\n",
       "        text-align: right;\n",
       "    }\n",
       "</style>\n",
       "<table border=\"1\" class=\"dataframe\">\n",
       "  <thead>\n",
       "    <tr style=\"text-align: right;\">\n",
       "      <th></th>\n",
       "      <th>group</th>\n",
       "      <th>stationID</th>\n",
       "      <th>longitude</th>\n",
       "      <th>latitude</th>\n",
       "      <th>slope</th>\n",
       "      <th>slope_err</th>\n",
       "    </tr>\n",
       "  </thead>\n",
       "  <tbody>\n",
       "    <tr>\n",
       "      <th>0</th>\n",
       "      <td>88</td>\n",
       "      <td>155</td>\n",
       "      <td>-157.866667</td>\n",
       "      <td>21.306667</td>\n",
       "      <td>2.031778</td>\n",
       "      <td>0.221030</td>\n",
       "    </tr>\n",
       "    <tr>\n",
       "      <th>1</th>\n",
       "      <td>88</td>\n",
       "      <td>549</td>\n",
       "      <td>151.283333</td>\n",
       "      <td>-33.833333</td>\n",
       "      <td>40.470782</td>\n",
       "      <td>292.619919</td>\n",
       "    </tr>\n",
       "    <tr>\n",
       "      <th>2</th>\n",
       "      <td>88</td>\n",
       "      <td>53</td>\n",
       "      <td>5.320487</td>\n",
       "      <td>60.398046</td>\n",
       "      <td>318.561604</td>\n",
       "      <td>64.420237</td>\n",
       "    </tr>\n",
       "    <tr>\n",
       "      <th>3</th>\n",
       "      <td>28</td>\n",
       "      <td>1099</td>\n",
       "      <td>135.432778</td>\n",
       "      <td>34.658056</td>\n",
       "      <td>5.462886</td>\n",
       "      <td>124.194806</td>\n",
       "    </tr>\n",
       "    <tr>\n",
       "      <th>4</th>\n",
       "      <td>28</td>\n",
       "      <td>1103</td>\n",
       "      <td>141.685278</td>\n",
       "      <td>45.407778</td>\n",
       "      <td>2.514209</td>\n",
       "      <td>78.227526</td>\n",
       "    </tr>\n",
       "    <tr>\n",
       "      <th>...</th>\n",
       "      <td>...</td>\n",
       "      <td>...</td>\n",
       "      <td>...</td>\n",
       "      <td>...</td>\n",
       "      <td>...</td>\n",
       "      <td>...</td>\n",
       "    </tr>\n",
       "    <tr>\n",
       "      <th>301</th>\n",
       "      <td>134</td>\n",
       "      <td>2089</td>\n",
       "      <td>9.114000</td>\n",
       "      <td>39.210000</td>\n",
       "      <td>2.831783</td>\n",
       "      <td>0.709169</td>\n",
       "    </tr>\n",
       "    <tr>\n",
       "      <th>302</th>\n",
       "      <td>134</td>\n",
       "      <td>1442</td>\n",
       "      <td>145.568000</td>\n",
       "      <td>43.278000</td>\n",
       "      <td>10.704878</td>\n",
       "      <td>0.652691</td>\n",
       "    </tr>\n",
       "    <tr>\n",
       "      <th>303</th>\n",
       "      <td>111</td>\n",
       "      <td>386</td>\n",
       "      <td>88.040000</td>\n",
       "      <td>30.700500</td>\n",
       "      <td>5.450000</td>\n",
       "      <td>0.803000</td>\n",
       "    </tr>\n",
       "    <tr>\n",
       "      <th>304</th>\n",
       "      <td>111</td>\n",
       "      <td>1156</td>\n",
       "      <td>88.075000</td>\n",
       "      <td>30.250000</td>\n",
       "      <td>5.280000</td>\n",
       "      <td>0.380000</td>\n",
       "    </tr>\n",
       "    <tr>\n",
       "      <th>305</th>\n",
       "      <td>111</td>\n",
       "      <td>246</td>\n",
       "      <td>87.210000</td>\n",
       "      <td>30.403333</td>\n",
       "      <td>4.900000</td>\n",
       "      <td>0.350000</td>\n",
       "    </tr>\n",
       "  </tbody>\n",
       "</table>\n",
       "<p>306 rows × 6 columns</p>\n",
       "</div>"
      ],
      "text/plain": [
       "     group  stationID   longitude   latitude       slope   slope_err\n",
       "0       88        155 -157.866667  21.306667    2.031778    0.221030\n",
       "1       88        549  151.283333 -33.833333   40.470782  292.619919\n",
       "2       88         53    5.320487  60.398046  318.561604   64.420237\n",
       "3       28       1099  135.432778  34.658056    5.462886  124.194806\n",
       "4       28       1103  141.685278  45.407778    2.514209   78.227526\n",
       "..     ...        ...         ...        ...         ...         ...\n",
       "301    134       2089    9.114000  39.210000    2.831783    0.709169\n",
       "302    134       1442  145.568000  43.278000   10.704878    0.652691\n",
       "303    111        386   88.040000  30.700500    5.450000    0.803000\n",
       "304    111       1156   88.075000  30.250000    5.280000    0.380000\n",
       "305    111        246   87.210000  30.403333    4.900000    0.350000\n",
       "\n",
       "[306 rows x 6 columns]"
      ]
     },
     "execution_count": 3,
     "metadata": {},
     "output_type": "execute_result"
    }
   ],
   "source": [
    "# If using pandas run this cell\n",
    "import pandas as pd\n",
    "# Load the data collected by the class by running this cell.\n",
    "\n",
    "df = pd.read_csv('collected_class_data.csv')\n",
    "\n",
    "# converting the slopes column to numpy array (and similarly for the errors) may be easier for some\n",
    "slopes = df['slope'].to_numpy()\n",
    "slope_errs = df['slope_err'].to_numpy()\n",
    "\n",
    "df"
   ]
  },
  {
   "cell_type": "code",
   "execution_count": 4,
   "metadata": {},
   "outputs": [
    {
     "name": "stdout",
     "output_type": "stream",
     "text": [
      "['group', 'stationID', 'longitude', 'latitude', 'slope', 'slope_err']\n",
      "(306, 6)\n"
     ]
    }
   ],
   "source": [
    "# If not using pandas run this cell\n",
    "\n",
    "# read the first line of the data file\n",
    "fop = open('collected_class_data.csv', 'r')\n",
    "line = fop.readline()\n",
    "fop.close()\n",
    "\n",
    "# find the labels of the data columns\n",
    "labels = line.strip('\\n').split(',')\n",
    "\n",
    "print(labels)\n",
    "\n",
    "data = np.loadtxt('collected_class_data.csv', skiprows = 1, delimiter = ',' )\n",
    "\n",
    "print(data.shape)"
   ]
  },
  {
   "cell_type": "markdown",
   "metadata": {},
   "source": [
    "#### Task 1: Find out how many unique stations did the class collect data for.\n",
    "\n",
    "Print the number of unique stations as well as the total number of stations with collected data.\n",
    "\n",
    "Hint: numpy's `np.unique` is useful for this task."
   ]
  },
  {
   "cell_type": "code",
   "execution_count": 5,
   "metadata": {},
   "outputs": [],
   "source": [
    "# YOUR CODE HERE\n",
    "stations = df[\"stationID\"]\n",
    "station, counts = np.unique(stations, return_counts = True)\n",
    "\n"
   ]
  },
  {
   "cell_type": "markdown",
   "metadata": {},
   "source": [
    "#### Task 2: In one figure, plot the distribution of the slopes from all stations in one panel and in the other panel plot the distribution of slope errors.\n",
    "\n",
    "Hint: matplotlib pyplot `hist` may come in handy."
   ]
  },
  {
   "cell_type": "code",
   "execution_count": 6,
   "metadata": {},
   "outputs": [
    {
     "data": {
      "image/png": "[encoded data removed]",
      "text/plain": [
       "<Figure size 1000x400 with 2 Axes>"
      ]
     },
     "metadata": {},
     "output_type": "display_data"
    }
   ],
   "source": [
    "# YOUR CODE HERE\n",
    "fig, ax = plt.subplots(1, 2, figsize=(10, 4))\n",
    "fig.suptitle(\"Histograms of slopes and errors\")\n",
    "ax[0].hist(slopes, bins=30, range=(-2, 2), label=\"Different slopes\")\n",
    "ax[0].legend()\n",
    "ax[1].hist(slope_errs, bins=30, range=(-0.3, 1), label=\"Different errors\", color=\"red\")\n",
    "ax[1].legend()\n",
    "plt.show()"
   ]
  },
  {
   "cell_type": "markdown",
   "metadata": {},
   "source": [
    "#### Task 3: Remove bad data.\n",
    "\n",
    "You will see that some slopes are extremely large in absolute value (hundreds or even thousands of mm/year). The same is true for some errors. \n",
    "\n",
    "These extreme values (also known as outliers) may be the result of error in the calculation, or the data of the chosen station in that case could be problematic. For example, in some stations the calibration of the data changed a few decades ago, leading to an apparent 'jump' in the sea levels that is not physical. \n",
    "\n",
    "Implement a criterion to keep only data with absolute value of slope < 100 mm/yr and absolute value of the slope error < 100 mm/yr. \n",
    "\n",
    "We will call these the 'clean' data. Prefer array indexing, avoid the use of a for loop.\n",
    "\n",
    "Create two new 1d arrays, one containing the slopes and the other the slope errors. \n",
    "\n",
    "Hint: have you used `np.logical_and` before? Try it out."
   ]
  },
  {
   "cell_type": "code",
   "execution_count": 7,
   "metadata": {},
   "outputs": [],
   "source": [
    "# YOUR CODE HERE\n",
    "slopes_bool = np.logical_and(slopes < 100, slopes > -100) #boolean array of correct values\n",
    "slopes_clean = np.array(slopes[slopes_bool]) #\"clean\" array of values\n",
    "errors_filt = np.array(slope_errs[slopes_bool]) #removing errors from the bad slopes\n",
    "errors_bool_1 = np.logical_and(errors_filt < 100, errors_filt > -100) #cleaning bad slopes\n",
    "errors_bool = np.logical_and(errors_bool_1, errors_filt !=0) #removing errors of zero to avoid getting division by zero\n",
    "errors_clean = np.array(errors_filt[errors_bool]) #filtering data\n",
    "slopes_clean = slopes_clean[errors_bool]"
   ]
  },
  {
   "cell_type": "markdown",
   "metadata": {},
   "source": [
    "## A.2: Determining average sea level rise\n",
    "\n",
    "#### Task 1: Compute the mean and weighted mean slope of the distribution of clean data from A.1, Task 3.\n",
    "\n",
    "Using numpy functionality, compute the mean slope from the clean data. \n",
    "\n",
    "Using both the slope and error data (clean dataset) calculate the weighted mean slope.\n",
    "\n",
    "Plot the distribution again with only the clean data slopes. Plot two vertical lines for the mean and weighted mean slope.\n",
    "\n",
    "Hint: numpy's `average` can take as input weights to compute a weighted mean. The weights are just the inverse squared errors."
   ]
  },
  {
   "cell_type": "code",
   "execution_count": 8,
   "metadata": {},
   "outputs": [
    {
     "data": {
      "text/plain": [
       "1.4578342399421185"
      ]
     },
     "execution_count": 8,
     "metadata": {},
     "output_type": "execute_result"
    }
   ],
   "source": [
    "# YOUR CODE HERE\n",
    "weights = 1/errors_clean**2\n",
    "mean_weighted = np.average(slopes_clean, weights = weights)\n",
    "mean_weighted"
   ]
  },
  {
   "cell_type": "markdown",
   "metadata": {},
   "source": [
    "#### Task 2: Compare to global mean sea level data.\n",
    "\n",
    "Data from coastal stations are affected by local changes that don't necesarrily reflect the trend for the entirety of the Earth's seas. For example, near Onsala the ground is lifting upwards with respect to the sea level due to tectonic acivity. To uncover global trends, one needs to average out these regional changes.\n",
    "\n",
    "Next we will compare the above results from your chosen local stations with data collected from all stations, showing the average height of the seas globally over time. The data were downloaded from this website: https://www.epa.gov/climate-indicators/climate-change-indicators-sea-level\n",
    "\n",
    "First, run the following code block to read in and plot the global data. Note that the height data are given in inches, so we have to convert to mm.\n",
    "\n",
    "Then, fit a straight line to these global data from the year 1980 onwards and plot the fitted line on the data.\n",
    "\n",
    "Finally, compare the slope you get to the results from A.2, Task 1. Comment on what you find."
   ]
  },
  {
   "cell_type": "code",
   "execution_count": 9,
   "metadata": {},
   "outputs": [
    {
     "data": {
      "image/png": "[encoded data removed]",
      "text/plain": [
       "<Figure size 640x480 with 1 Axes>"
      ]
     },
     "metadata": {},
     "output_type": "display_data"
    }
   ],
   "source": [
    "# Run this cell - you can modify/add code here if you wish\n",
    "\n",
    "import matplotlib.pyplot as plt\n",
    "import numpy as np\n",
    "import scipy as sp\n",
    "\n",
    "\n",
    "# data downloaded from: https://www.epa.gov/climate-indicators/climate-change-indicators-sea-level\n",
    "\n",
    "# The global data are given in inches. Convert to mm before plotting.\n",
    "in_to_mm = 25.4\n",
    "\n",
    "# --------\n",
    "# If using pandas uncomment these lines:\n",
    "\n",
    "#import pandas as pd\n",
    "#global_data = pd.read_csv('sea-level_fig-1.csv', delimiter = ',', header = 6)\n",
    "\n",
    "# Converting to numpy arrays which may be easier to handle for some\n",
    "#time = global_data['Year'].to_numpy()\n",
    "#height = global_data['CSIRO - Adjusted sea level (inches)'].to_numpy()*in_to_mm\n",
    "# ------ \n",
    "\n",
    "# -----\n",
    "# Use numpy to load the data. Exclude the first 6 rows and the last 8 rows (no data from CSIRO)\n",
    "data = np.loadtxt('sea-level_fig-1.csv', delimiter = ',', skiprows = 7, usecols = [0,1], max_rows = 134)\n",
    "\n",
    "\n",
    "time = data[:,0] # time in years is in the first column\n",
    "height = data[:,1]*in_to_mm # height in inches is in the second column\n",
    "\n",
    "# Plot the global data\n",
    "plt.scatter(time, height)\n",
    "plt.xlabel('Time')\n",
    "plt.ylabel('Height (mm)')\n",
    "\n",
    "\n",
    "\n",
    "# YOUR CODE HERE\n",
    "\n",
    "slope, intercept, rvalue, pvalue, stderr = sp.stats.linregress(time[100:], height[100:])\n",
    "x = np.linspace(1980, 2021, 200)\n",
    "plt.plot(x, slope*x + intercept, label=\"Curve fit\", color=\"red\")\n",
    "plt.legend()\n",
    "plt.show()\n",
    "\n",
    "\n"
   ]
  },
  {
   "cell_type": "markdown",
   "metadata": {},
   "source": [
    "#### Task 3: By how much has the average height of the seas increased since 1980?\n",
    "\n",
    "The data include some scatter by seasonal variations and other factors. To estimate the height increase, prefer to use your fit in the previous task instead of the datapoints in the array of global heights.\n",
    "\n",
    "If you are wondering where the rise comes from, check out: https://www.climate.gov/news-features/understanding-climate/climate-change-global-sea-level\n",
    "It is a combination of thermal expansion as the waters' temparature increases, and ice melting."
   ]
  },
  {
   "cell_type": "code",
   "execution_count": 10,
   "metadata": {},
   "outputs": [
    {
     "data": {
      "image/png": "[encoded data removed]",
      "text/plain": [
       "<Figure size 640x480 with 1 Axes>"
      ]
     },
     "metadata": {},
     "output_type": "display_data"
    }
   ],
   "source": [
    "# YOUR CODE HERE\n",
    "# Plot the global data\n",
    "plt.scatter(time, height)\n",
    "plt.xlabel('Time')\n",
    "plt.ylabel('Height (mm)')\n",
    "\n",
    "x = np.linspace(1880, 2021, 300)\n",
    "mvalue = -2750 #we adjust to fit the line better to the data\n",
    "plt.plot(x, x*mean_weighted + mvalue, label=\"Curvefit\", color = \"red\")\n",
    "plt.title(\"With data from our previous dataset\")\n",
    "plt.legend()\n",
    "plt.show()"
   ]
  },
  {
   "cell_type": "markdown",
   "metadata": {},
   "source": [
    "## B. Volume increase of Earth's seas\n",
    "\n",
    "Given the rise in *global* sea levels seen in the data from  Problem A, your goal will be to estimate by how much the volume of the seas has increased in that same time interval (1980 - 2013). \n",
    "\n",
    "Use some form of numerical integration to solve the problem. The next sub-problems will guide you.\n"
   ]
  },
  {
   "cell_type": "markdown",
   "metadata": {},
   "source": [
    "#### Task 1: Find the volume of a sphere the size of the Earth using numerical integration.\n",
    "\n",
    "- Define a function that computes the surface of a sphere of radius `R`. You may start with the known formula for the surface of a sphere.\n",
    "\n",
    "- Define a function that calculates the volume of a sphere by numerically integrating the surface of the sphere. Use any of the methods introduced in class for numerical integration (from the lecture notebook).  \n",
    "\n",
    "- Use your functions to calculate the volume of a sphere with radius that of the Earth (R = 6371 km). Report your result in $km^3$."
   ]
  },
  {
   "cell_type": "code",
   "execution_count": 11,
   "metadata": {},
   "outputs": [
    {
     "data": {
      "text/plain": [
       "1072540816881.1411"
      ]
     },
     "execution_count": 11,
     "metadata": {},
     "output_type": "execute_result"
    }
   ],
   "source": [
    "# YOUR CODE HERE\n",
    "def S(R):\n",
    "    \"\"\"Calculates area of a sphere\"\"\"\n",
    "    return 4*np.pi*R**2\n",
    "\n",
    "def Vol_S(S, R, n):\n",
    "    \"\"\"\n",
    "    Calculates the volume of a sphere\n",
    "\n",
    "    Input S - function that calculates the area of a sphere with radius R\n",
    "    R - Radius\n",
    "    n - number of points on interval\n",
    "\n",
    "    return - Volume of a sphere\n",
    "    \"\"\"\n",
    "    h = R / n\n",
    "    Vol = 0\n",
    "    r = 0                              # integration variable\n",
    "    for i in range(n):\n",
    "        r = i*h\n",
    "        Vol += S(r)*h\n",
    "    return Vol\n",
    "\n",
    "Vol_earth = Vol_S(S, 6371, 152)\n",
    "Vol_earth\n",
    "\n"
   ]
  },
  {
   "cell_type": "markdown",
   "metadata": {},
   "source": [
    "#### Task 2: Find the minimum value of intervals you need in the integration to get the correct answer from Task 1 to <a href=https://en.wikipedia.org/wiki/Approximation_error#Formal_Definition>relative error</a> of less than $10^{-2}$ =  1%.\n",
    "\n",
    "Remember the definition of relative error: if $v$ is the correct answer and $v_{\\rm approx}$ is the approximate answer, the relative error $\\eta$ is defined as:\n",
    "\n",
    "\\begin{equation}\n",
    "\\eta = \\left| \\frac{v - v_{\\rm approx}}{v} \\right|\n",
    "\\end{equation}\n",
    "\n",
    "If you choose to use a loop, it should have an \"emergency exit\" test that stops the loop if the number of intervals exceeds 1,000."
   ]
  },
  {
   "cell_type": "code",
   "execution_count": 12,
   "metadata": {},
   "outputs": [
    {
     "data": {
      "text/plain": [
       "152"
      ]
     },
     "execution_count": 12,
     "metadata": {},
     "output_type": "execute_result"
    }
   ],
   "source": [
    "# YOUR CODE HERE\n",
    "V_c = (4*np.pi*6371**3)/3\n",
    "def error(Vol_S, V_c, rel_error=10**(-2), start_iterations = 10, max_iterations=1000):\n",
    "    \"\"\"\n",
    "    Input - Vol_S - function that calculates volume of a sphere\n",
    "    V_c - actual answer for the volume\n",
    "    rel_error = minimum relative error (default=10^-2)\n",
    "    start_iterations - the minimum iterations to test the relative error\n",
    "    max_iterations - max number of intervals\n",
    "\n",
    "    Return - appropriate intervals to adjust for the relative error\n",
    "    \"\"\"\n",
    "    n = start_iterations\n",
    "    while True:\n",
    "        Vol = Vol_S(S, 6371, n)\n",
    "        if abs((Vol-V_c)/Vol) < rel_error:\n",
    "            break\n",
    "        elif n > 1000:\n",
    "            break\n",
    "        n += 1\n",
    "    return n\n",
    "\n",
    "intervals = error(Vol_S, V_c)\n",
    "intervals\n",
    "    "
   ]
  },
  {
   "attachments": {
    "shell.png": {
     "image/png": "[encoded data removed]"
    }
   },
   "cell_type": "markdown",
   "metadata": {},
   "source": [
    "#### Task 3: Find the volume of a spherical shell.\n",
    "\n",
    "Define a function that calculates the volume of a spherical shell of thickness dR (the cross-section of such a shell is shown as an example below). Use your results from B, Task 1.\n",
    "\n",
    "Assuming that (a) the seas cover 100\\% of the Earth's surface, and (b) the average depth of the seas is 2.7 km, show that your function estimates the volume of sea water to be ~$1.3 - 1.4 \\, \\cdot 10^9 \\,\\, km^3$ ([ref](https://www.usgs.gov/special-topics/water-science-school/science/how-much-water-there-earth?qt-science_center_objects=0#qt-science_center_objects)).\n",
    "\n",
    "![shell.png](attachment:shell.png)"
   ]
  },
  {
   "cell_type": "code",
   "execution_count": 13,
   "metadata": {},
   "outputs": [
    {
     "data": {
      "text/plain": [
       "1374526319.1938477"
      ]
     },
     "execution_count": 13,
     "metadata": {},
     "output_type": "execute_result"
    }
   ],
   "source": [
    "# YOUR CODE HERE\n",
    "def Vol_dr(Vol, R, dr, n):\n",
    "    \"\"\" \n",
    "    Input - Vol - function that calculates the volume of a sphere\n",
    "    R - radius of sphere\n",
    "    dr - thickness of spherical shell\n",
    "    n - number of points on intervaö\n",
    "    \"\"\"\n",
    "    return Vol(S, R, n)-Vol(S, (R-dr), n)\n",
    "\n",
    "Vol_water = Vol_dr(Vol_S, 6371, 2.7, 1000)\n",
    "Vol_water"
   ]
  },
  {
   "cell_type": "markdown",
   "metadata": {},
   "source": [
    "#### Task 4: Use your results from the previous tasks to estimate the increase in volume of the Earth's seas since 1980. \n",
    "\n",
    "For simplicity use the same assumptions as before, and that the volume at year 1980 was the one you found previously. This is a crude assumption, but good enough for our purposes.\n",
    "\n",
    "Report your result both in absolute terms (i.e. the volume has increased by $km^3$) and as a percentage of the total initial volume."
   ]
  },
  {
   "cell_type": "code",
   "execution_count": 14,
   "metadata": {},
   "outputs": [
    {
     "name": "stdout",
     "output_type": "stream",
     "text": [
      "The volume has increased 42883.03 km^3 and in percentage 1.59\n",
      "115305.4326171875\n",
      "72422.40588378906\n"
     ]
    }
   ],
   "source": [
    "# YOUR CODE HERE\n",
    "Vol_2013 = Vol_dr(Vol_S, 6371, height[-1]*10**(-6), 1000) \n",
    "Vol_1980 = Vol_dr(Vol_S, 6371, height[100]*10**(-6), 1000)\n",
    "increase = Vol_2013 - Vol_1980\n",
    "percentage = Vol_2013 / Vol_1980\n",
    "print(\"The volume has increased {:.2f} km^3 and in percentage {:.2f}\".format(increase, percentage))\n",
    "\n"
   ]
  },
  {
   "cell_type": "markdown",
   "metadata": {},
   "source": [
    "---"
   ]
  },
  {
   "cell_type": "markdown",
   "metadata": {},
   "source": [
    "# Peer feedback"
   ]
  },
  {
   "cell_type": "markdown",
   "metadata": {},
   "source": [
    "**Motivation and learning goals:**\n",
    "    \n",
    "An important part of learning how to program is to read and learn from others' code. As you evolve in your programming journey, you will find that you can not only *understand what code does*, but also start to find problems in the code and *opportunities for improvement*. This is an important stage in the learning process, allowing you to start to think beyond *'How can this be solved?'* to *'How could this be solved in a better way?'*. Combined with obtaining constructive feedback *on your own code* this is a proven strategy to quickly improve the way you program.\n",
    "\n",
    "What we expect from you for this part of the assignment:\n",
    "\n",
    "* Give feedback that is constructive: write feedback in a way that can help the group who wrote the code to improve.  \n",
    "* A good rule of thumb is to aim to spend between 15 - 30 minutes for each notebook you give feedback on.\n",
    "* Aim to give at least one useful suggestion that you think the other group would appreciate.\n",
    "* You can answer most questions with Yes/No, except for the ones which ask for an example. Write at least one sentence for the latter type of question.\n",
    "* If you see something in the code that you particularly liked, write that down - the group will probably be pleased to hear what they did extremely well.\n",
    "* You are free to write short code snippets as suggestions if you want, but remember we do not require you to debug code that does not work.\n",
    "* If your feedback is found to have inappropriate/rude language, or if there are no examples in the required questions, you will be asked to revise it and resubmit.\n",
    "\n",
    "The assignments will be graded as usual by the teachers and TAs. Your feedback will be sent to each group by us, anonymizing who gave the feedback.\n",
    "\n",
    "**What your feedback should contain (rubric):**\n",
    "\n",
    "You should answer the following questions in your peer review:\n",
    "\n",
    "*Readability*\n",
    "\n",
    "* Is the code easy to understand? Does it have enough comments that help you follow its logic?\n",
    "\n",
    "* Are the figures clear?\n",
    "\n",
    "*Accuracy*\n",
    "\n",
    "* Does the code run without producing errors? \n",
    "\n",
    "* Are the results reasonable? Did you find any mistakes in the implementation?\n",
    "\n",
    "*Comparison to own approach*\n",
    "\n",
    "* Was the implementation similar to your own? \n",
    "\n",
    "* How was the implementation different than yours? Write an example or two.\n",
    "\n",
    "*Overall strengths*\n",
    "\n",
    "* What part of the code did you find was done well? Write at least one example (could be a clear figure, a smart use of array indexing etc).\n",
    "\n",
    "*Suggestions for improvement*\n",
    "\n",
    "* How could this code be improved with respect to readability, accuracy or efficiency? Write at least one example."
   ]
  },
  {
   "cell_type": "markdown",
   "metadata": {},
   "source": [
    "**Practical Instructions:**\n",
    "\n",
    "* Download the two notebooks that your group was assigned to give feedback on\n",
    "* In each notebook, create a new markdown cell in the top of the notebook\n",
    "* Title the markdown cell: '# Feedback'\n",
    "* Copy-paste the above rubric into that cell\n",
    "* Read the code of the notebook, run it and inspect the output\n",
    "* Discuss in your team what to answer for the questions in the rubric\n",
    "* Add your answers/comments into the top cell\n",
    "* Submit these two notebooks where you have added feedback along with your submission of this problem set notebook as usual on Canvas.\n"
   ]
  },
  {
   "cell_type": "code",
   "execution_count": null,
   "metadata": {},
   "outputs": [],
   "source": []
  }
 ],
 "metadata": {
  "kernelspec": {
   "display_name": "Python 3",
   "language": "python",
   "name": "python3"
  },
  "language_info": {
   "codemirror_mode": {
    "name": "ipython",
    "version": 3
   },
   "file_extension": ".py",
   "mimetype": "text/x-python",
   "name": "python",
   "nbconvert_exporter": "python",
   "pygments_lexer": "ipython3",
   "version": "3.12.0"
  }
 },
 "nbformat": 4,
 "nbformat_minor": 2
}
