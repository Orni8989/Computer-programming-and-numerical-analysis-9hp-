{
 "cells": [
  {
   "cell_type": "markdown",
   "id": "c14b0b7f-c9f2-4966-9c65-0eb3410af2fc",
   "metadata": {
    "tags": []
   },
   "source": [
    "# Solving Systems of Linear Equations"
   ]
  },
  {
   "cell_type": "code",
   "execution_count": 55,
   "id": "de5500a7",
   "metadata": {},
   "outputs": [],
   "source": [
    "import numpy as np\n",
    "import matplotlib.pyplot as plt\n",
    "\n",
    "# --------------------------------------------------- #\n",
    "# group number: 23\n",
    "# your name(s): Carl Örnberg, Jonathan Nguyen\n",
    "# --------------------------------------------------- #"
   ]
  },
  {
   "cell_type": "markdown",
   "id": "4ff21a9d-3d40-4009-8d49-11ebe0ba927d",
   "metadata": {},
   "source": [
    "## Exercise 1: Matrix manipulations.\n",
    "\n",
    "1. Define these three matrices\n",
    "$\n",
    "A = \\begin{pmatrix}\n",
    "1 & 2 & 3\\\\\n",
    "4 & 5 & 6\\\\\n",
    "7 & 8 & 9\n",
    "\\end{pmatrix}\n",
    "$\n",
    ", \n",
    "$\n",
    "B = \\begin{pmatrix}\n",
    "11 & 12 & 13\\\\\n",
    "14 & 15 & 16\\\\\n",
    "17 & 18 & 19\n",
    "\\end{pmatrix}\n",
    "$\n",
    "and \n",
    "$\n",
    "C = \\begin{pmatrix}\n",
    "1 & 2\\\\\n",
    "3 & 4\\\\\n",
    "5 & 6\n",
    "\\end{pmatrix}\n",
    "$\n",
    "\n",
    "2. Use any two matrices to do i) one matrix addition, ii) one element-wise matrix multiplication and iii) one matrix multiplication.\n",
    "3. What are the requirements on the matrices dimensions for these three types of operations?\n",
    "4. What numpy tool returns the dimension of a matrix? Use it on matrix $A$.\n",
    "5. Concatenate the matrices $A$ and $C$ along their columns and print the result. The resulting matrix's dimension should be $3\\times5$"
   ]
  },
  {
   "cell_type": "code",
   "execution_count": 56,
   "id": "73a36e01-1d8b-4daf-8dd8-81e96f7863e7",
   "metadata": {},
   "outputs": [],
   "source": [
    "### BEGIN SOLUTION\n",
    "# 1\n",
    "A = np.array([i for i in range(1, 10)]).reshape(3, 3)\n",
    "B = np.array([i for i in range(11, 20)]).reshape(3, 3)\n",
    "C = np.array([i for i in range(1, 7)]).reshape(3, 2)\n",
    "\n",
    "# 2\n",
    "add_A_B = A + B\n",
    "mult_element_A_B = A*B\n",
    "mult_matrix_A_C = A@C\n",
    "\n",
    "# 3\n",
    "# i) The matrixes have an equal amount of rows and colums\n",
    "# ii) The matrixes have an equal amount of rows and colums\n",
    "# iii) The left matrix's colums has to be equal to the right matrix's rows\n",
    "\n",
    "# 4\n",
    "#The np.shape tool\n",
    "size = np.shape(A)\n",
    "\n",
    "# 5\n",
    "A_C_con = np.concatenate((A, C), axis=1)\n",
    "\n",
    "### END SOLUTION"
   ]
  },
  {
   "cell_type": "markdown",
   "id": "65189d49-6078-4972-a132-738a6b3a890b",
   "metadata": {
    "tags": []
   },
   "source": [
    "## Exercise 2: Lower and upper triangular matrices\n",
    "\n",
    "Run the cell below, it creates a $5\\times5$ matrix called $A$ which values range from 51 to 75. See how the `numpy.arange` and `numpy.reshape` functions are used."
   ]
  },
  {
   "cell_type": "code",
   "execution_count": 57,
   "id": "70093e55-30d9-4150-9aab-8d56a06a77cb",
   "metadata": {},
   "outputs": [
    {
     "name": "stdout",
     "output_type": "stream",
     "text": [
      "[[51 52 53 54 55]\n",
      " [56 57 58 59 60]\n",
      " [61 62 63 64 65]\n",
      " [66 67 68 69 70]\n",
      " [71 72 73 74 75]]\n"
     ]
    }
   ],
   "source": [
    "n = 5\n",
    "val = 51\n",
    "A = np.arange(val,val+n*n).reshape(n,n)\n",
    "print(A)"
   ]
  },
  {
   "cell_type": "markdown",
   "id": "9aa67aed-4ad6-48e8-8cc1-a0b0440c46e4",
   "metadata": {},
   "source": [
    "1. With a few lines of codes, rework $A$ to create the matrices $L$ and $U$, which are the lower triangular and upper triangular parts of $A$, respectively. Do not use `numpy.tril` or `numpy.triu`. Do not write these matrices by hand. This is _not_ a LU-decomposition, which will be seen later in Exercise 4.\n",
    "\n",
    "2. Create a function to compute $\\|U\\|$, which is the Euclidean norm of $U$. For a square matrix of dimension $n$, we have $\\|U\\| = \\sqrt{\\sum_{1\\le i, j \\le n} A_{ij}^2}$ (the square root of the sum of the square of each element). \n",
    "\n",
    "3. Then compute this norm again but using `numpy.linalg.norm` and show that you get the same results as with the function you wrote in the previous question."
   ]
  },
  {
   "cell_type": "code",
   "execution_count": 58,
   "id": "9f347661-bb15-4a68-9c89-9524a8a5f46f",
   "metadata": {
    "tags": []
   },
   "outputs": [
    {
     "name": "stdout",
     "output_type": "stream",
     "text": [
      "[[51.  0.  0.  0.  0.]\n",
      " [56. 57.  0.  0.  0.]\n",
      " [61. 62. 63.  0.  0.]\n",
      " [66. 67. 68. 69.  0.]\n",
      " [71. 72. 73. 74. 75.]]\n",
      "[[51. 52. 53. 54. 55.]\n",
      " [ 0. 57. 58. 59. 60.]\n",
      " [ 0.  0. 63. 64. 65.]\n",
      " [ 0.  0.  0. 69. 70.]\n",
      " [ 0.  0.  0.  0. 75.]]\n",
      "Same result\n"
     ]
    }
   ],
   "source": [
    "### BEGIN SOLUTION\n",
    "# 1\n",
    "low_m = np.zeros((5, 5))\n",
    "for i in range(0, np.shape(A)[0]):\n",
    "    for j in range(0, np.shape(A)[1]):\n",
    "        if j <= i:\n",
    "            low_m[i, j] = A[i, j]\n",
    "\n",
    "high_m = np.zeros((5, 5))\n",
    "for i in range(0, np.shape(A)[0]):\n",
    "    for j in range(0, np.shape(A)[1]):\n",
    "        if j >= i:\n",
    "            high_m[i, j] = A[i, j]\n",
    "\n",
    "print(low_m)\n",
    "print(high_m)\n",
    "\n",
    "# 2\n",
    "def norm_matrix(A):\n",
    "    sum_square = 0\n",
    "    for i in range(0, np.shape(A)[0]):\n",
    "        for j in range(0, np.shape(A)[1]):\n",
    "            sum_square += A[i, j]**2\n",
    "    norm = np.sqrt(sum_square)\n",
    "    return norm\n",
    "   \n",
    "# 3\n",
    "norm_1 = norm_matrix(A)\n",
    "norm_2 = np.linalg.norm(A)\n",
    "\n",
    "if norm_1 == norm_2:\n",
    "    print(\"Same result\")\n",
    "else:\n",
    "    print(\"Different results\")\n",
    "### END SOLUTION"
   ]
  },
  {
   "cell_type": "markdown",
   "id": "b9616389-bbd0-41cd-b41c-832f45de6aa8",
   "metadata": {},
   "source": [
    "## Exercise 3: Condition number\n",
    "1. Use `numpy.linalg.solve` to solve the system $Ax = b$ where $x$ is the unknown, \n",
    "$\n",
    "A = \\begin{pmatrix}\n",
    "0.8647 & 0.5766\\\\\n",
    "0.4322 & 0.2822\n",
    "\\end{pmatrix}\n",
    "$ and \n",
    "$\n",
    "b = \\begin{pmatrix}\n",
    "0.2885 \\\\\n",
    "0.1442\n",
    "\\end{pmatrix}$. Also print $x$.\n",
    "2. Compute and print the _condition number_ of $A$, which is defined as: $\\|A\\|  \\|A^{-1}\\|$. You can re-use your norm function from Exercise 2, or work with `np.linalg.norm`. Use `numpy.linalg.inv` for inverting the matrix.\n",
    "3. Now add a small perturbation $p=0.0001$ to the element in the first row and first column of $A$ and solve $Ax_p = b$ for $x_p$. Compute the relative change of $x_p$ from the $x$ computed in question 1.\n",
    "4. Repeat steps 1 to 3 but now using\n",
    "$\n",
    "A = \\begin{pmatrix}\n",
    "8.5 & 1.5\\\\\n",
    "1.8 & 3.1\n",
    "\\end{pmatrix}$ \n",
    "(Called ```A2``` in  the code cell below) \n",
    "5. How do you interpret the condition number?"
   ]
  },
  {
   "cell_type": "code",
   "execution_count": 59,
   "id": "709fbdfd-2781-4588-9790-b9c7050acaf6",
   "metadata": {
    "tags": []
   },
   "outputs": [
    {
     "name": "stdout",
     "output_type": "stream",
     "text": [
      "Computations for the initial A: \n",
      "\n",
      "x0 is 0.3336 and x1 is -0.0000077\n",
      "The condition is 259.5529\n",
      "The relative changes are -0.5469% and -36247.7056%\n",
      "\n",
      "Computations for the changed A: \n",
      "\n",
      "x0 is 0.0287 and x1 is 0.0298689\n",
      "The condition is 3.6934\n",
      "The relative changes are 0.0013% and -0.0007%\n"
     ]
    }
   ],
   "source": [
    "### BEGIN SOLUTION\n",
    "\n",
    "# 1\n",
    "print(\"Computations for the initial A: \\n\")\n",
    "A = np.array([0.8647, 0.5766, 0.4322, 0.2822]).reshape(2,2)\n",
    "b = np.array([0.2885, 0.1442])\n",
    "\n",
    "x = np.linalg.solve(A, b)\n",
    "print(\"x0 is {:.4f} and x1 is {:.7f}\".format(x[0], x[1]))\n",
    "\n",
    "# 2\n",
    "A_inv = np.linalg.inv(A)\n",
    "condition = norm_matrix(A)*norm_matrix(A_inv)\n",
    "print(\"The condition is {:.4f}\".format(condition))\n",
    "\n",
    "# 3\n",
    "p = 0.0001\n",
    "dA = np.array([p,0, 0, 0]).reshape(2, 2)\n",
    "x_p = np.linalg.solve((A + dA), b)\n",
    "\n",
    "rel_1 = ((x[0] - x_p[0]) / x[0])*100\n",
    "rel_2 = ((x[1] - x_p[1]) / x[1])*100\n",
    "print(\"The relative changes are {:.4f}% and {:.4f}%\\n\".format(rel_1, rel_2))\n",
    "\n",
    "# 4\n",
    "print(\"Computations for the changed A: \\n\")\n",
    "\n",
    "A2 = np.array([8.5, 1.5, 1.8, 3.1]).reshape(2,2)\n",
    "x2 = np.linalg.solve(A2, b)\n",
    "print(\"x0 is {:.4f} and x1 is {:.7f}\".format(x2[0], x2[1]))\n",
    "\n",
    "A_inv2 = np.linalg.inv(A2)\n",
    "condition_new = norm_matrix(A2) * norm_matrix(A_inv2)\n",
    "print(\"The condition is {:.4f}\".format(condition_new))\n",
    "\n",
    "dA2 = np.array([p,0, 0, 0]).reshape(2, 2)\n",
    "x_p2 = np.linalg.solve((A2 + dA2), b)\n",
    "\n",
    "rel_1_1 = ((x2[0] - x_p2[0]) / x2[0])*100\n",
    "rel_2_2 = ((x2[1] - x_p2[1]) / x2[1])*100\n",
    "print(\"The relative changes are {:.4f}% and {:.4f}%\".format(rel_1_1, rel_2_2))\n",
    "\n",
    "\n",
    "# 5\n",
    "#It seems like the condition number is connected to the sensitivity of the system, and a high condition numer will result in bigger changes of x for a change in the matrix.\n",
    "### END SOLUTION"
   ]
  },
  {
   "cell_type": "markdown",
   "id": "03d4dc13-78de-404e-aaac-72863156ad1c",
   "metadata": {
    "tags": []
   },
   "source": [
    "## Exercise 4: Matrix inversion\n",
    "\n",
    "This exercise refers to the book _Numerical Methods in Physics with Python 1st Edition_ section 4.3.3, equation 4.147 page 164 but all details will be given here. The task is to code a **function** that performs a matrix inversion and returns the inverted matrix (questions 4.1 and 4.2). The function will be tested on the matrix $A$ (questions 4.3 and 4.4). The inverted matrix is written $A^{-1}$ and satisfies $AA^{-1} = I$, where $I$ is the identity matrix. We define $A$ as:\n",
    "\n",
    "$\n",
    "A = \\begin{pmatrix}\n",
    "2 & 1 & 1\\\\\n",
    "1 & 1 & -2\\\\\n",
    "1 & 2 & 1\n",
    "\\end{pmatrix}\n",
    "$. \n",
    "\n",
    "The procedure is based on the LU decomposition. As seen in the lecture, to LU-decompose $A$ means to find $L$ and $U$ such as $A = LU$. For that, we will use the function `ludec` given below, which uses the functions `forwsub` and `backsub`, also given. These functions have also been seen in the lecture. Review how they work before using them."
   ]
  },
  {
   "cell_type": "code",
   "execution_count": 60,
   "id": "11b8affb-61d7-4fb8-aa1c-77633e7b6831",
   "metadata": {},
   "outputs": [],
   "source": [
    "def forwsub(L, b):\n",
    "    ''' Forward substitution: solves Lx = b where x is the unknown, \n",
    "    b is known and L is known and is a lower triangular matrix'''  \n",
    "    n = L.shape[0]\n",
    "    x = np.zeros(n)\n",
    "    for i in range(n):\n",
    "        x[i] = (b[i] - L[i,:i]@x[:i])/L[i, i]\n",
    "    return x\n",
    "\n",
    "def backsub(U, b):\n",
    "    ''' Backward substitution: solves Ux = b where x is the unknown, \n",
    "    b is known and U is known and is an upper triangular matrix'''  \n",
    "    n = U.shape[0]\n",
    "    x = np.zeros(n)\n",
    "    for i in reversed(range(n)):\n",
    "        x[i] = (b[i] - U[i,i+1:]@x[i+1:])/U[i, i]\n",
    "    return x\n",
    "           \n",
    "def ludec(A):\n",
    "    ''' LU decomposition: from the input matrix A, returns L and U such that A = LU, \n",
    "    with L and U being lower and upper triangular matrices, respectively'''\n",
    "    n = A.shape[0]\n",
    "    U = np.copy(A)\n",
    "    L = np.identity(n)\n",
    "    for j in range(n-1):\n",
    "        for i in range(j+1, n):\n",
    "            coef = U[i, j]/U[j, j]\n",
    "            U[i,j:] = U[i,j:] - U[j,j:] * coef\n",
    "            L[i,j] = coef\n",
    "    return L, U"
   ]
  },
  {
   "cell_type": "markdown",
   "id": "973354a0-3ad4-4f8e-b2bb-25e0139ee7a1",
   "metadata": {},
   "source": [
    "### 4.1\n",
    "First, LU-decompose $A$. \n",
    "\n",
    "### 4.2\n",
    "Recall that $AA^{-1} = I$ and let's say that $x_i$ and $e_i$ are the column-vectors of $A^{-1}$ and $I$, respectively. Let's assume that the dimension of $A$ is $n$. As a result, we have: \n",
    "\n",
    "$A^{-1} = \\begin{pmatrix} x_0 & x_1 & ... & x_i & ... & x_{n-1}\\end{pmatrix}$ and  $I = \\begin{pmatrix} e_0 & e_1 & ... & e_i & ... & e_{n-1}\\end{pmatrix}$ \n",
    "\n",
    "Thus, inverting $A$ means to solve equation $Ax_i = e_i$, i.e. find $x_i$. \n",
    "Note that since $A = LU$, then you can rewrite $Ax_i = e_i$ as $L(Ux_i) = e_i$. \n",
    "\n",
    "Therefore, in your inversion function you will first solve $Ly_i = e_i$. Once $y_i$ is known, then proceed with solving $Ux_i = y_i$ and build $A^{-1}$.\n",
    "\n",
    "### 4.3 \n",
    "Compare your inverted matrix with the inverted matrix returned by the numpy function `numpy.linalg.inv` and show that they closely agree.\n",
    "\n",
    "### 4.4 \n",
    "Propose and implement another way to show that your inversion works (think about the equation satisfied by an inverse matrix)."
   ]
  },
  {
   "cell_type": "code",
   "execution_count": 61,
   "id": "bd3e6d41-6ab9-49f9-9a33-7e26b2deb614",
   "metadata": {},
   "outputs": [
    {
     "name": "stdout",
     "output_type": "stream",
     "text": [
      "The result is True\n",
      "The result is True\n"
     ]
    },
    {
     "name": "stderr",
     "output_type": "stream",
     "text": [
      "C:\\Users\\carlo\\AppData\\Local\\Temp\\ipykernel_25508\\1410490564.py:7: DeprecationWarning: Conversion of an array with ndim > 0 to a scalar is deprecated, and will error in future. Ensure you extract a single element from your array before performing this operation. (Deprecated NumPy 1.25.)\n",
      "  x[i] = (b[i] - L[i,:i]@x[:i])/L[i, i]\n"
     ]
    }
   ],
   "source": [
    "A = np.array([2.0, 1., 1., 1, 1, -2, 1, 2, 1]).reshape(3,3)\n",
    "\n",
    "### BEGIN SOLUTION\n",
    "# 4.1 to 4.4\n",
    "def invers(A):\n",
    "    n = np.shape(A)[0]\n",
    "    A_inv = np.zeros((n, n))\n",
    "    L, U = ludec(A)\n",
    "    for i in range(0, n):\n",
    "        e = np.zeros((n, 1))\n",
    "        e[i, 0] = 1\n",
    "        y_i = forwsub(L, e)\n",
    "        x_i = backsub(U, y_i)\n",
    "        A_inv[:, i] = x_i\n",
    "    return A_inv\n",
    "\n",
    "A_inv_comp = invers(A)\n",
    "A_inv = np.linalg.inv(A)\n",
    "print(\"The result is {}\".format(np.allclose(A_inv_comp, A_inv)))\n",
    "\n",
    "#To show that the inversion works\n",
    "I = np.eye(np.shape(A)[0])\n",
    "I_comp = A@A_inv\n",
    "print(\"The result is {}\".format(np.allclose(A_inv_comp, A_inv)))\n",
    "### END SOLUTION"
   ]
  },
  {
   "cell_type": "markdown",
   "id": "3211016d-9685-4471-9bdc-1b1c1acd84af",
   "metadata": {},
   "source": [
    "## Exercise 5: Laser tracking equipment\n",
    "\n",
    "A room is equipped with two lasers that aim at tracking the position of a person walking in it. \n",
    "Each laser follows the person and returns the equation of its ray. \n",
    "We are interested in the position of the person, that is, the position where the two lasers intersect.\n",
    "At first, the two lasers are rather close to each other (just 10 cm apart).\n",
    "\n",
    "### 5.1\n",
    "The code below makes a figure that represent the room as if seen from above. Add the rays from the two lasers on the figure."
   ]
  },
  {
   "cell_type": "code",
   "execution_count": 62,
   "id": "a600ec16-2e2b-4088-892f-f8deacd3246d",
   "metadata": {},
   "outputs": [
    {
     "data": {
      "image/png": "[encoded data removed]",
      "text/plain": [
       "<Figure size 500x500 with 1 Axes>"
      ]
     },
     "metadata": {},
     "output_type": "display_data"
    }
   ],
   "source": [
    "# Define the x axis\n",
    "step = 0.1\n",
    "x = np.arange(0,10+step,step)\n",
    "\n",
    "# Lasers sources positions:\n",
    "s1x, s1y = 2., 0 # laser_1\n",
    "s2xa, s2ya = 1.9, 0 # laser_2 position a\n",
    "\n",
    "# Equation for each laser\n",
    "a1, b1 = 1., -2  \n",
    "a2a, b2a = 4/4.1, 4-24/4.1  \n",
    "y1 = a1*x +b1  # laser_1\n",
    "y2a = a2a*x + b2a   # laser_2\n",
    "\n",
    "# Figure of the room with each laser position and their rays toward the person being tracked\n",
    "# The room is 10x10 m sides and seen from above. \n",
    "# The position (0,0) is the lower left corner of the room\n",
    "\n",
    "fig, ax = plt.subplots(nrows=1, ncols=1, figsize=(5, 5))\n",
    "ax.plot(s1x, s1y, 'r*', label='Laser source 1', markersize=10)\n",
    "ax.plot(s2xa, s2ya, 'g*', label='Laser source 2a', markersize=10)\n",
    "### BEGIN SOLUTION\n",
    "# 5.1\n",
    "plt.plot(x, y1, label=\"Laser 1\")\n",
    "plt.plot(x, y2a, label=\"Laser 2\")\n",
    "### END SOLUTION\n",
    "ax.set_xlabel('x (m)')\n",
    "ax.set_ylabel('y (m)')\n",
    "ax.set_xlim([0, 10])\n",
    "ax.set_ylim([0, 10])\n",
    "ax.set_title('Sensors configuration a')\n",
    "ax.legend()\n",
    "plt.show()"
   ]
  },
  {
   "cell_type": "markdown",
   "id": "e1a3b47e-d860-4d26-9a19-add35301aaa7",
   "metadata": {},
   "source": [
    "### 5.2\n",
    "As explained, the two lasers follow the person in the room. That person is at the intersection of the two rays. \n",
    "\n",
    "- Think about the system of linear equations that needs to be solved to compute the coordinates of the intersection (= the position of the person tracked). Use it to declare $A$ and $k$ such that $Au=k$, where $A$ is a coefficient matrix, $k$ is a column vector and $u$ is the coordinate of the intersection, also a column vector. Only $u$ is unknown.\n",
    "- Then use `np.linalg.solve` to get the person's coordinates and print it. You should find that the person is located at $x, y =6, 4$ m."
   ]
  },
  {
   "cell_type": "code",
   "execution_count": 63,
   "id": "79f23346-ba45-48d0-81de-4fb0edf92443",
   "metadata": {},
   "outputs": [
    {
     "name": "stdout",
     "output_type": "stream",
     "text": [
      "The result is True\n"
     ]
    }
   ],
   "source": [
    "### BEGIN SOLUTION\n",
    "# 5.2\n",
    "k = np.array([-b1, -b2a]).reshape(2, 1)\n",
    "A = np.array([a1, -1, a2a, -1]).reshape(2, 2)\n",
    "x_s = np.linalg.solve(A, k)\n",
    "ans = np.array([6, 4]).reshape(2, 1)\n",
    "print(\"The result is {}\".format(np.allclose(x_s, ans)))\n",
    "### END SOLUTION"
   ]
  },
  {
   "cell_type": "markdown",
   "id": "108e6c69-45c7-4e41-b1b6-21f52999e418",
   "metadata": {},
   "source": [
    "### 5.3\n",
    "Now like any real sensor, some measurement uncertainties will leak into the laser equation.\n",
    "- To mimic these uncertainties, let's apply a small perturbation p = 0.001 on the two slope coefficients: $a1 + p$ and $a2a - p$ and solve the system again. \n",
    "- Compute the distance between the position in 5.2 and the one found here.\n",
    "- Could you have expected this sensitivity to uncertainties. Justify quantitavely (with numbers).\n",
    "- Also explain intuitively why this occurs. \n",
    "- What you would do to improve the system (no need to write it down here, just think)."
   ]
  },
  {
   "cell_type": "code",
   "execution_count": 64,
   "id": "cd2769e7-bc41-41ff-8b5f-027ce804492e",
   "metadata": {},
   "outputs": [
    {
     "name": "stdout",
     "output_type": "stream",
     "text": [
      "The distance between between the real position and the modified position is 0.6392\n",
      "The condition is 162.024390243903\n"
     ]
    }
   ],
   "source": [
    "### BEGIN SOLUTION\n",
    "# 5.3\n",
    "p = 0.001\n",
    "a1_n = a1 + p\n",
    "a2a_n = a2a - p\n",
    "\n",
    "A_n = np.array([a1_n, -1, a2a_n, -1]).reshape(2, 2)\n",
    "x_error = np.linalg.solve(A_n, k)\n",
    "distance_1 = x_s - x_error\n",
    "real_distance_1 = np.linalg.norm(distance_1)\n",
    "print(\"The distance between between the real position and the modified position is {:.4f}\".format(real_distance_1))\n",
    "\n",
    "A_inv_1 = np.linalg.inv(A)\n",
    "condition_1 = norm_matrix(A)*norm_matrix(A_inv_1)\n",
    "\n",
    "print(\"The condition is {}\".format(condition_1))\n",
    "\n",
    "#The condition number shows that the system is very sensative which we can se in the distance between the real and modified system, this happens because¨\n",
    "#the lasers are close to eachother which makes it harder to determine the exact position of the person.\n",
    "\n",
    "### END SOLUTION"
   ]
  },
  {
   "cell_type": "markdown",
   "id": "91457989-c770-4f1b-bd18-10e647ac1eb6",
   "metadata": {},
   "source": [
    "### 5.4 \n",
    "Above you see what it practically means to have an ill-conditioned problem. A bad setting in a physical system leads to numerical issues.\n",
    "\n",
    "You may have found that one solution is to move one of the lasers. We will move the second laser source 2a further away along the same wall. It's new position is now: $x, y = 8, 0$. The laser source 1 stays at the same place as before.\n",
    "\n",
    "- Make a figure of the new configuration and lasers rays.\n",
    "- Compute and print the person's position\n",
    "- Apply the same perturbation p = 0.001 on the two slope coefficients: $a1 + p$ and $a2b - p$ and solve the system again. Do you have a more robust system, why? (give numbers)\n",
    "- On the same figure, add a black dot where the person is located and complete the legend."
   ]
  },
  {
   "cell_type": "code",
   "execution_count": 67,
   "id": "c1f5ee1b-6a2f-4247-aa1a-e87fb4f40123",
   "metadata": {},
   "outputs": [
    {
     "name": "stdout",
     "output_type": "stream",
     "text": [
      "The distance between between the real position and the modified position is 0.0045\n"
     ]
    },
    {
     "data": {
      "image/png": "[encoded data removed]",
      "text/plain": [
       "<Figure size 500x500 with 1 Axes>"
      ]
     },
     "metadata": {},
     "output_type": "display_data"
    }
   ],
   "source": [
    "### BEGIN SOLUTION\n",
    "# 5.4\n",
    "# Let's move laser 2\n",
    "s2xb, s2yb = 8, 0 # laser 2, position b\n",
    "a2b, b2b = -2, 16 \n",
    "\n",
    "\n",
    "#Equation from laser 2, position b\n",
    "y2b = a2b*x + b2b\n",
    "\n",
    "\n",
    "fig, ax = plt.subplots(nrows=1, ncols=1, figsize=(5, 5))\n",
    "ax.plot(s1x, s1y, 'r*', label='Laser source 1', markersize=10)\n",
    "ax.plot(s2xb, s2yb, 'g*', label='Laser source 2a', markersize=10)\n",
    "\n",
    "\n",
    "plt.plot(x, y1, label=\"laser1\")\n",
    "plt.plot(x,y2b, label=\"laser2\")\n",
    "\n",
    "\n",
    "ax.set_xlabel('x (m)')\n",
    "ax.set_ylabel('y (m)')\n",
    "ax.set_xlim([0, 10])\n",
    "ax.set_ylim([0, 10])\n",
    "ax.set_title('Sensors configuration a')\n",
    "ax.legend()\n",
    "\n",
    "\n",
    "\n",
    "A_n_2 = np.array([a1, -1, a2b, -1 ]).reshape(2,2)\n",
    "k_n = np.array([-b1, -b2b]).reshape(2, 1)\n",
    "x_s_2 = np.linalg.solve(A_n_2, k_n)\n",
    "\n",
    "p = 0.001\n",
    "a1_p = a1 + p\n",
    "a2b_p = a2b - p\n",
    "A_n_error = np.array([a1_p, -1, a2b_p, -1]).reshape(2,2)\n",
    "x_s_error = np.linalg.solve(A_n_error, k_n)\n",
    "\n",
    "distance_2 = x_s_2 - x_s_error\n",
    "real_distance_2 = np.linalg.norm(distance_2)\n",
    "print(\"The distance between between the real position and the modified position is {:.4f}\".format(real_distance_2))\n",
    "\n",
    "plt.scatter(x_s_2[0], x_s_2[1], color=\"black\", label=\"Position of person\")\n",
    "plt.legend()\n",
    "plt.show()\n",
    "\n",
    "### END SOLUTION"
   ]
  }
 ],
 "metadata": {
  "kernelspec": {
   "display_name": "Python 3 (ipykernel)",
   "language": "python",
   "name": "python3"
  },
  "language_info": {
   "codemirror_mode": {
    "name": "ipython",
    "version": 3
   },
   "file_extension": ".py",
   "mimetype": "text/x-python",
   "name": "python",
   "nbconvert_exporter": "python",
   "pygments_lexer": "ipython3",
   "version": "3.12.0"
  }
 },
 "nbformat": 4,
 "nbformat_minor": 5
}
