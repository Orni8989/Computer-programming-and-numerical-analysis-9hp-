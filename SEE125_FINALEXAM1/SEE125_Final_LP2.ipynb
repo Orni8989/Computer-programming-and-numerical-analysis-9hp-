{
 "cells": [
  {
   "cell_type": "markdown",
   "id": "1ea3f8b0",
   "metadata": {},
   "source": [
    "# General remarks\n",
    "\n",
    "Work through the problems and fill in any place where it says `YOUR CODE HERE` or \"YOUR ANSWER HERE\".\n",
    "\n",
    "Once you have filled in a code cell with your solution to the problem, remove the `raise NotImplementedError()` statement.\n",
    "But if you did not work on a particular problem or didn't come up with a solution, leave that statement in place.\n",
    "\n",
    "Before you hand in your assignment on Canvas, make sure everything runs as expected.\n",
    "\n",
    "> The easiest way to check this is to **restart the kernel and run all cells** \n",
    "> (in the menubar, select *Kernel$\\rightarrow$Restart Kernel and Run All Cells...*) \n",
    "\n",
    "And, please, fill in your name(s) and group number in the cell below:"
   ]
  },
  {
   "cell_type": "code",
   "execution_count": 102,
   "id": "a3e5b42b",
   "metadata": {},
   "outputs": [],
   "source": [
    "NAMES = \"Carl Örnberg Jonathan Nguyen\"                # fill in your name(s) between the quotes, comma separated if more than one\n",
    "GROUP = \"23\"                # fill in your group number between the quotes"
   ]
  },
  {
   "cell_type": "markdown",
   "id": "e3c7d5d4",
   "metadata": {},
   "source": [
    "---"
   ]
  },
  {
   "cell_type": "markdown",
   "id": "b3c6451c",
   "metadata": {
    "deletable": false,
    "editable": false,
    "nbgrader": {
     "cell_type": "markdown",
     "checksum": "98c221ab9793e41c0f8c6dbd60c5172d",
     "grade": false,
     "grade_id": "problem1",
     "locked": true,
     "schema_version": 3,
     "solution": false,
     "task": false
    }
   },
   "source": [
    "# Problem 1 (5 pts)\n",
    "\n",
    "This problem is about complex numbers. Euler's formula says that\n",
    "\n",
    "$$e^{i\\phi} = \\cos \\phi + i \\sin \\phi$$\n",
    "\n",
    "where $e$ is the base of the natural logarithm and $i$ is the square root of −1 (i.e. the imagninary unit).\n",
    "\n",
    "Using the `cmath` module and a value of $\\phi = 30^\\circ$, calculate $e^{i\\phi}$ and $\\cos \\phi + i \\sin \\phi$ and\n",
    "check that they both give the same numerical value. Save the two results in variables `lhs` and `rhs` (short for *left hand side* and *right hand side*), respectively, because these are checked in an `assert` statement below.\n",
    "\n",
    "*Note that, the `cmath` module does not provide functions `radians` and `complex`, which are part of the `math`\n",
    "module, and you should provide a solution that doesn't need these.*"
   ]
  },
  {
   "cell_type": "code",
   "execution_count": 103,
   "id": "d713f480",
   "metadata": {
    "deletable": false,
    "nbgrader": {
     "cell_type": "code",
     "checksum": "3d198551f11a6afcbf13962ade04220d",
     "grade": false,
     "grade_id": "cell-046948e65d15d1b1",
     "locked": false,
     "schema_version": 3,
     "solution": true,
     "task": false
    }
   },
   "outputs": [
    {
     "name": "stdout",
     "output_type": "stream",
     "text": [
      "(0.8660254037844387+0.49999999999999994j) (0.8660254037844387+0.49999999999999994j)\n"
     ]
    }
   ],
   "source": [
    "import cmath\n",
    "phi = 30\n",
    "phi_radians = phi*cmath.pi / 180\n",
    "img = 1j\n",
    "lhs = cmath.e**(img*phi_radians)\n",
    "rhs = cmath.cos(phi_radians) + img*cmath.sin(phi_radians)\n",
    "print(f\"{lhs} {rhs}\")"
   ]
  },
  {
   "cell_type": "code",
   "execution_count": 104,
   "id": "71721bdb",
   "metadata": {
    "deletable": false,
    "editable": false,
    "nbgrader": {
     "cell_type": "code",
     "checksum": "982a891e0b8aa1018eca0b349be6896b",
     "grade": true,
     "grade_id": "cell-e8ffd0e99b52a6f8",
     "locked": true,
     "points": 5,
     "schema_version": 3,
     "solution": false,
     "task": false
    }
   },
   "outputs": [],
   "source": [
    "assert lhs == rhs"
   ]
  },
  {
   "cell_type": "markdown",
   "id": "a62017ea",
   "metadata": {
    "deletable": false,
    "editable": false,
    "nbgrader": {
     "cell_type": "markdown",
     "checksum": "19955c6ca4b7beabecb1958b3c4d9dd2",
     "grade": false,
     "grade_id": "problem2",
     "locked": true,
     "schema_version": 3,
     "solution": false,
     "task": false
    }
   },
   "source": [
    "# Problem 2\n",
    "\n",
    "List and dictionary comprehension."
   ]
  },
  {
   "cell_type": "markdown",
   "id": "d6e2634e",
   "metadata": {
    "deletable": false,
    "editable": false,
    "nbgrader": {
     "cell_type": "markdown",
     "checksum": "cf0d6c0041cda65f7a3066782e3f88cc",
     "grade": false,
     "grade_id": "problem2a",
     "locked": true,
     "schema_version": 3,
     "solution": false,
     "task": false
    }
   },
   "source": [
    "## Problem 2a: Lists (3 pts)\n",
    "\n",
    "**Write a `for` loop** that produces the list of numbers of the form $\\frac{1}{i^2}$ for $i = 1\\ldots 10$ with alternate sign, i.e in Python the list would look like the following:\n",
    "\n",
    "``` python\n",
    "L1 = [1, -0.25, 0.1111111, -0.0625, ..., -0.01] \n",
    "```\n",
    "\n",
    "Call your list `L1`. "
   ]
  },
  {
   "cell_type": "code",
   "execution_count": 105,
   "id": "711a945e",
   "metadata": {
    "deletable": false,
    "nbgrader": {
     "cell_type": "code",
     "checksum": "65338ef0e604a80d87f7045a4b4ac4b0",
     "grade": false,
     "grade_id": "cell-4ee533a06f3348e7",
     "locked": false,
     "schema_version": 3,
     "solution": true,
     "task": false
    }
   },
   "outputs": [
    {
     "name": "stdout",
     "output_type": "stream",
     "text": [
      "[1.0, -0.25, 0.1111111111111111, -0.0625, 0.04, -0.027777777777777776, 0.02040816326530612, -0.015625, 0.012345679012345678, -0.01]\n"
     ]
    }
   ],
   "source": [
    "# YOUR CODE HERE\n",
    "L1 = []\n",
    "for i in range(1, 11):\n",
    "    L1.append((-1)**(i+1)*1/i**2)\n",
    "print(L1)"
   ]
  },
  {
   "cell_type": "code",
   "execution_count": 106,
   "id": "59c3ff3c",
   "metadata": {
    "deletable": false,
    "editable": false,
    "nbgrader": {
     "cell_type": "code",
     "checksum": "3164a23bec2a956b771f7858f58f5fae",
     "grade": true,
     "grade_id": "cell-6d3f9e53b404c82e",
     "locked": true,
     "points": 3,
     "schema_version": 3,
     "solution": false,
     "task": false
    }
   },
   "outputs": [],
   "source": [
    "# your list should pass the following tests\n",
    "\n",
    "assert L1[0] == 1.0\n",
    "assert L1[1] == -0.25\n",
    "assert L1[9] == -0.01"
   ]
  },
  {
   "cell_type": "markdown",
   "id": "da3ae18a",
   "metadata": {
    "deletable": false,
    "editable": false,
    "nbgrader": {
     "cell_type": "markdown",
     "checksum": "d5963b9093ccdee9cd68b3f953a50cf2",
     "grade": false,
     "grade_id": "problem2b",
     "locked": true,
     "schema_version": 3,
     "solution": false,
     "task": false
    }
   },
   "source": [
    "## Problem 2b (3 pts)\n",
    "\n",
    "Now, **produce the same list using list comprehension**. This time, store your list in a variable called `L2`."
   ]
  },
  {
   "cell_type": "code",
   "execution_count": 107,
   "id": "aa2c82aa",
   "metadata": {
    "deletable": false,
    "nbgrader": {
     "cell_type": "code",
     "checksum": "e8406a9fd42abdaf10f0ba1d539fe4d2",
     "grade": false,
     "grade_id": "cell-1b9c0ab3b16c28e7",
     "locked": false,
     "schema_version": 3,
     "solution": true,
     "task": false
    }
   },
   "outputs": [],
   "source": [
    "# YOUR CODE HERE\n",
    "L2 = [(-1)**(i+1)*1/i**2 for i in range(1, 11)]"
   ]
  },
  {
   "cell_type": "code",
   "execution_count": 108,
   "id": "1570ee9a",
   "metadata": {
    "deletable": false,
    "editable": false,
    "nbgrader": {
     "cell_type": "code",
     "checksum": "eab043905cc7367754df9107b6b12802",
     "grade": true,
     "grade_id": "cell-a055feb5b98724e5",
     "locked": true,
     "points": 3,
     "schema_version": 3,
     "solution": false,
     "task": false
    }
   },
   "outputs": [],
   "source": [
    "# let's test that L1 and L2 agree\n",
    "\n",
    "assert L1 == L2"
   ]
  },
  {
   "cell_type": "markdown",
   "id": "796ece05",
   "metadata": {
    "deletable": false,
    "editable": false,
    "nbgrader": {
     "cell_type": "markdown",
     "checksum": "01e18cde2d12551de27fb4195144bbd8",
     "grade": false,
     "grade_id": "problem2c",
     "locked": true,
     "schema_version": 3,
     "solution": false,
     "task": false
    }
   },
   "source": [
    "## Problem 2c: Dictionaries (3 pts)\n",
    "\n",
    "**Write a `for` loop** that produces a dictionary where the keys are strings of the form `<i> deg`, with\n",
    "`i` ranging from 0 to 9, and the values are the sine function evaluated at `i` degrees:\n",
    "\n",
    "```python\n",
    "D1 = { '0 deg': 0.00000, '1 deg': 0.017452, '2 deg': 0.034899, ..., '9 deg': 0.156434 }\n",
    "```\n",
    "\n",
    "Call your dictionary D1."
   ]
  },
  {
   "cell_type": "code",
   "execution_count": 109,
   "id": "f7776ec0",
   "metadata": {
    "deletable": false,
    "nbgrader": {
     "cell_type": "code",
     "checksum": "0e4b158a0aff003f091c25d3b894a632",
     "grade": false,
     "grade_id": "cell-c1298fb79eb8771f",
     "locked": false,
     "schema_version": 3,
     "solution": true,
     "task": false
    }
   },
   "outputs": [
    {
     "name": "stdout",
     "output_type": "stream",
     "text": [
      "{'0 deg': 0.0, '1 deg': 0.017452, '2 deg': 0.034899, '3 deg': 0.052336, '4 deg': 0.069756, '5 deg': 0.087156, '6 deg': 0.104528, '7 deg': 0.121869, '8 deg': 0.139173, '9 deg': 0.156434}\n"
     ]
    }
   ],
   "source": [
    "# YOUR CODE HERE\n",
    "import math\n",
    "D1 = {}\n",
    "for h in range(0, 10):\n",
    "    D1[f\"{h} deg\"] = round(math.sin(h*cmath.pi/180).real, 6)\n",
    "print(D1)\n"
   ]
  },
  {
   "cell_type": "code",
   "execution_count": 110,
   "id": "5b5ef14a",
   "metadata": {
    "deletable": false,
    "editable": false,
    "nbgrader": {
     "cell_type": "code",
     "checksum": "6ab639f5f20ae3ea110388c69d62db48",
     "grade": true,
     "grade_id": "cell-868fec29aca6733f",
     "locked": true,
     "points": 3,
     "schema_version": 3,
     "solution": false,
     "task": false
    }
   },
   "outputs": [],
   "source": [
    "# your dictionary should pass the following tests\n",
    "\n",
    "assert D1.get(\"0 deg\") == 0.0\n",
    "assert abs(D1.get(\"9 deg\") - 0.156434) < 1.0e-6 "
   ]
  },
  {
   "cell_type": "markdown",
   "id": "a40a5289",
   "metadata": {
    "deletable": false,
    "editable": false,
    "nbgrader": {
     "cell_type": "markdown",
     "checksum": "f9e1dde5a52dce991850c55984a7e135",
     "grade": false,
     "grade_id": "problem2d",
     "locked": true,
     "schema_version": 3,
     "solution": false,
     "task": false
    }
   },
   "source": [
    "## Problem 2d (3 pts)\n",
    "\n",
    "Now, **produce the same dictionary using dictionary comprehension**. This time, store your dictionary in a variable called `D2`."
   ]
  },
  {
   "cell_type": "code",
   "execution_count": 111,
   "id": "2ddd0915",
   "metadata": {
    "deletable": false,
    "nbgrader": {
     "cell_type": "code",
     "checksum": "54fa819d425c77dc903bc4e5a00637fe",
     "grade": false,
     "grade_id": "cell-2b8e28ac79b98780",
     "locked": false,
     "schema_version": 3,
     "solution": true,
     "task": false
    }
   },
   "outputs": [],
   "source": [
    "# YOUR CODE HERE\n",
    "D2 = {f\"{h} deg\" : round(math.sin(h*cmath.pi/180), 6) for h in range(0, 10)}"
   ]
  },
  {
   "cell_type": "code",
   "execution_count": 112,
   "id": "89638e7a",
   "metadata": {
    "deletable": false,
    "editable": false,
    "nbgrader": {
     "cell_type": "code",
     "checksum": "f1524f01dc93859b92157136f86f28f0",
     "grade": true,
     "grade_id": "cell-3521d1ec3850de2f",
     "locked": true,
     "points": 3,
     "schema_version": 3,
     "solution": false,
     "task": false
    }
   },
   "outputs": [],
   "source": [
    "# let's test that D1 and D2 agree\n",
    "\n",
    "assert D1 == D2"
   ]
  },
  {
   "cell_type": "markdown",
   "id": "12f08fbd",
   "metadata": {
    "deletable": false,
    "editable": false,
    "nbgrader": {
     "cell_type": "markdown",
     "checksum": "15fa354762f48252586b91d35b3112e0",
     "grade": false,
     "grade_id": "problem3",
     "locked": true,
     "schema_version": 3,
     "solution": false,
     "task": false
    }
   },
   "source": [
    "# Problem 3 (10 pts)\n",
    "\n",
    "Use a `for` loop to caclulate $\\pi$ from **the first 20 terms** of the *Madhava series*:\n",
    "\n",
    "$$\\pi = \\sqrt{12}\\left(1-\\frac{1}{3\\cdot 3}+\\frac{1}{5\\cdot 3^2}-\\frac{1}{7\\cdot 3^3}+ \\ldots \\right)$$\n",
    "\n",
    "Calculate the right hand side of that equation and store your result in a variable called `madhava`. \n",
    "\n",
    "We will test below that the absolute difference between \n",
    "your result and the \"true\" value of $\\pi$ (i.e. `math.pi`) is less than $10^{-9}$.\n",
    "\n",
    "*If you want, you may also provide a solution based on just one line of code. \n",
    "The `numpy` package is not needed here, but feel free to use it, if you think you can use it to your advantage.*"
   ]
  },
  {
   "cell_type": "code",
   "execution_count": 113,
   "id": "3376d66c",
   "metadata": {
    "deletable": false,
    "nbgrader": {
     "cell_type": "code",
     "checksum": "34804b7ec029b5c972baacfd28b76149",
     "grade": false,
     "grade_id": "cell-22c3bc67fba77a22",
     "locked": false,
     "schema_version": 3,
     "solution": true,
     "task": false
    }
   },
   "outputs": [
    {
     "name": "stdout",
     "output_type": "stream",
     "text": [
      "3.1415926535714034\n"
     ]
    }
   ],
   "source": [
    "# YOUR CODE HERE\n",
    "madhava = 0 #deklaraera variabel som ska ge madhava-serierna\n",
    "for i in range(1, 21):\n",
    "    madhava += math.sqrt(12) * (-1)**(i-1)/((1 + 2 * (i-1)) * 3**(i-1)) #lägger till varje nytt tal i madhava serien när i går från 1 till 20\n",
    "print(madhava)"
   ]
  },
  {
   "cell_type": "code",
   "execution_count": 114,
   "id": "8b523325",
   "metadata": {
    "deletable": false,
    "editable": false,
    "nbgrader": {
     "cell_type": "code",
     "checksum": "c1dae620de814e02485ca0042f5b97d4",
     "grade": true,
     "grade_id": "cell-11453e1e7ffb3fd7",
     "locked": true,
     "points": 10,
     "schema_version": 3,
     "solution": false,
     "task": false
    }
   },
   "outputs": [
    {
     "name": "stdout",
     "output_type": "stream",
     "text": [
      "3.1415926535714034 3.141592653589793\n"
     ]
    }
   ],
   "source": [
    "print(madhava, math.pi)\n",
    "\n",
    "assert abs(madhava - math.pi) < 1.0e-9"
   ]
  },
  {
   "cell_type": "markdown",
   "id": "bcdb0335",
   "metadata": {
    "deletable": false,
    "editable": false,
    "nbgrader": {
     "cell_type": "markdown",
     "checksum": "e5d3e6b528fcb6bce6dfa90c355ed0f9",
     "grade": false,
     "grade_id": "problem4",
     "locked": true,
     "schema_version": 3,
     "solution": false,
     "task": false
    }
   },
   "source": [
    "# Problem 4\n",
    "\n",
    "The *hailstone sequence* starting at an integer $n > 0$ is generated by the repeated application of the three rules:\n",
    "* if $n = 1$, the sequence ends;\n",
    "* if $n$ is even, the next number in the  sequence is $n/2$;\n",
    "* if $n$ is odd, the next number in the  sequence is $3n + 1$."
   ]
  },
  {
   "cell_type": "markdown",
   "id": "ae89643b",
   "metadata": {
    "deletable": false,
    "editable": false,
    "nbgrader": {
     "cell_type": "markdown",
     "checksum": "edf3ae6e0d99b006b96dcb5b77f0b1b2",
     "grade": false,
     "grade_id": "problem4a",
     "locked": true,
     "schema_version": 3,
     "solution": false,
     "task": false
    }
   },
   "source": [
    "## Problem 4a (8 pts)\n",
    "\n",
    "Write a **generator function** `hailstone` (i.e. the function will be using the Python keyword `yield`,\n",
    "rather than `return`), which \"yields\" the next number in the sequence. \n",
    "\n",
    "The function starts at an integer `n`,  which is passed as an argument to the function. \n",
    "\n",
    "**All numbers in the sequence should be integer!**"
   ]
  },
  {
   "cell_type": "code",
   "execution_count": 115,
   "id": "47947d9a",
   "metadata": {
    "deletable": false,
    "nbgrader": {
     "cell_type": "code",
     "checksum": "ed29597a94131d18cd98c8a022a9ada6",
     "grade": false,
     "grade_id": "cell-32330dcf99e7e11d",
     "locked": false,
     "schema_version": 3,
     "solution": true,
     "task": false
    }
   },
   "outputs": [],
   "source": [
    "def hailstone(n):\n",
    "    \"\"\"Produce the hailstone sequence starting from n.\"\"\"\n",
    "    while n != 1: #kör en while loop så länge n inte är 1\n",
    "        if n % 2 == 0: #kollar jämt eller udda tal\n",
    "            n = n // 2\n",
    "        else:\n",
    "            n = 3*n + 1\n",
    "        yield n  #utför sekvensen \n",
    "    return n\n",
    "    # YOUR CODE HERE\n",
    "    "
   ]
  },
  {
   "cell_type": "markdown",
   "id": "68e9a4f6",
   "metadata": {
    "deletable": false,
    "editable": false,
    "nbgrader": {
     "cell_type": "markdown",
     "checksum": "22da84cfee7867048b82277f50bd77ef",
     "grade": false,
     "grade_id": "cell-ee9d4341c1bc7669",
     "locked": true,
     "schema_version": 3,
     "solution": false,
     "task": false
    }
   },
   "source": [
    "You should now be able to get the sequence of numbers for a start value of **10**, by using the following code."
   ]
  },
  {
   "cell_type": "code",
   "execution_count": 116,
   "id": "e9050563",
   "metadata": {
    "deletable": false,
    "editable": false,
    "nbgrader": {
     "cell_type": "code",
     "checksum": "a16e8ae3f7a7ed086c8d6b77600b3a7a",
     "grade": true,
     "grade_id": "cell-f7499da97d96757f",
     "locked": true,
     "points": 5,
     "schema_version": 3,
     "solution": false,
     "task": false
    }
   },
   "outputs": [
    {
     "name": "stdout",
     "output_type": "stream",
     "text": [
      "[5, 16, 8, 4, 2, 1]\n",
      "6\n"
     ]
    }
   ],
   "source": [
    "# just run this code cell and make sure it passes the assertions below\n",
    "\n",
    "h10 = hailstone(10)\n",
    "\n",
    "# h10 is now a generator object, which is iterable, so we can turn it into a list.\n",
    "sequence = list(h10)\n",
    "print(sequence)\n",
    "\n",
    "# And the length of our sequence (which is called its *stopping time*) is simply:\n",
    "print(len(sequence))\n",
    "\n",
    "# starting with 10, as we did here should have produced the following list of length 6:\n",
    "assert sequence == [5, 16, 8, 4, 2, 1]\n",
    "assert len(sequence) == 6\n"
   ]
  },
  {
   "cell_type": "markdown",
   "id": "4f8b7767",
   "metadata": {
    "deletable": false,
    "editable": false,
    "nbgrader": {
     "cell_type": "markdown",
     "checksum": "149dc9c1bac09995a6f54c94547819b8",
     "grade": false,
     "grade_id": "problem4b",
     "locked": true,
     "schema_version": 3,
     "solution": false,
     "task": false
    }
   },
   "source": [
    "## Problem 4b (2 pts)\n",
    "\n",
    "Print the *stopping times* for all sequences with start value $n$, where $n = 1\\ldots 100$.\n",
    "Your output should look like the following:\n",
    "```\n",
    "the stopping time for   1 is   0\n",
    "the stopping time for   2 is   1\n",
    "the stopping time for   3 is   7\n",
    "the stopping time for   4 is   2\n",
    "...\n",
    "the stopping time for  97 is 118\n",
    "the stopping time for  98 is  25\n",
    "the stopping time for  99 is  25\n",
    "the stopping time for 100 is  25\n",
    "```\n",
    "\n",
    "i.e. all integers should be printed with a width of 3, as they can be >= 100 and should be right aligned."
   ]
  },
  {
   "cell_type": "code",
   "execution_count": 117,
   "id": "8a6dd1d7",
   "metadata": {
    "deletable": false,
    "nbgrader": {
     "cell_type": "code",
     "checksum": "c1ee158579e8c5e0f80cb919cf1e8c01",
     "grade": false,
     "grade_id": "cell-678beb6d5cfaf941",
     "locked": false,
     "schema_version": 3,
     "solution": true,
     "task": false
    }
   },
   "outputs": [
    {
     "name": "stdout",
     "output_type": "stream",
     "text": [
      "the stooping time for   1 is   0\n",
      "the stooping time for   2 is   1\n",
      "the stooping time for   3 is   7\n",
      "the stooping time for   4 is   2\n",
      "the stooping time for   5 is   5\n",
      "the stooping time for   6 is   8\n",
      "the stooping time for   7 is  16\n",
      "the stooping time for   8 is   3\n",
      "the stooping time for   9 is  19\n",
      "the stooping time for  10 is   6\n",
      "the stooping time for  11 is  14\n",
      "the stooping time for  12 is   9\n",
      "the stooping time for  13 is   9\n",
      "the stooping time for  14 is  17\n",
      "the stooping time for  15 is  17\n",
      "the stooping time for  16 is   4\n",
      "the stooping time for  17 is  12\n",
      "the stooping time for  18 is  20\n",
      "the stooping time for  19 is  20\n",
      "the stooping time for  20 is   7\n",
      "the stooping time for  21 is   7\n",
      "the stooping time for  22 is  15\n",
      "the stooping time for  23 is  15\n",
      "the stooping time for  24 is  10\n",
      "the stooping time for  25 is  23\n",
      "the stooping time for  26 is  10\n",
      "the stooping time for  27 is 111\n",
      "the stooping time for  28 is  18\n",
      "the stooping time for  29 is  18\n",
      "the stooping time for  30 is  18\n",
      "the stooping time for  31 is 106\n",
      "the stooping time for  32 is   5\n",
      "the stooping time for  33 is  26\n",
      "the stooping time for  34 is  13\n",
      "the stooping time for  35 is  13\n",
      "the stooping time for  36 is  21\n",
      "the stooping time for  37 is  21\n",
      "the stooping time for  38 is  21\n",
      "the stooping time for  39 is  34\n",
      "the stooping time for  40 is   8\n",
      "the stooping time for  41 is 109\n",
      "the stooping time for  42 is   8\n",
      "the stooping time for  43 is  29\n",
      "the stooping time for  44 is  16\n",
      "the stooping time for  45 is  16\n",
      "the stooping time for  46 is  16\n",
      "the stooping time for  47 is 104\n",
      "the stooping time for  48 is  11\n",
      "the stooping time for  49 is  24\n",
      "the stooping time for  50 is  24\n",
      "the stooping time for  51 is  24\n",
      "the stooping time for  52 is  11\n",
      "the stooping time for  53 is  11\n",
      "the stooping time for  54 is 112\n",
      "the stooping time for  55 is 112\n",
      "the stooping time for  56 is  19\n",
      "the stooping time for  57 is  32\n",
      "the stooping time for  58 is  19\n",
      "the stooping time for  59 is  32\n",
      "the stooping time for  60 is  19\n",
      "the stooping time for  61 is  19\n",
      "the stooping time for  62 is 107\n",
      "the stooping time for  63 is 107\n",
      "the stooping time for  64 is   6\n",
      "the stooping time for  65 is  27\n",
      "the stooping time for  66 is  27\n",
      "the stooping time for  67 is  27\n",
      "the stooping time for  68 is  14\n",
      "the stooping time for  69 is  14\n",
      "the stooping time for  70 is  14\n",
      "the stooping time for  71 is 102\n",
      "the stooping time for  72 is  22\n",
      "the stooping time for  73 is 115\n",
      "the stooping time for  74 is  22\n",
      "the stooping time for  75 is  14\n",
      "the stooping time for  76 is  22\n",
      "the stooping time for  77 is  22\n",
      "the stooping time for  78 is  35\n",
      "the stooping time for  79 is  35\n",
      "the stooping time for  80 is   9\n",
      "the stooping time for  81 is  22\n",
      "the stooping time for  82 is 110\n",
      "the stooping time for  83 is 110\n",
      "the stooping time for  84 is   9\n",
      "the stooping time for  85 is   9\n",
      "the stooping time for  86 is  30\n",
      "the stooping time for  87 is  30\n",
      "the stooping time for  88 is  17\n",
      "the stooping time for  89 is  30\n",
      "the stooping time for  90 is  17\n",
      "the stooping time for  91 is  92\n",
      "the stooping time for  92 is  17\n",
      "the stooping time for  93 is  17\n",
      "the stooping time for  94 is 105\n",
      "the stooping time for  95 is 105\n",
      "the stooping time for  96 is  12\n",
      "the stooping time for  97 is 118\n",
      "the stooping time for  98 is  25\n",
      "the stooping time for  99 is  25\n",
      "the stooping time for 100 is  25\n"
     ]
    }
   ],
   "source": [
    "# YOUR CODE HERE\n",
    "for i in range(1, 101):\n",
    "    print(f\"the stooping time for {i: >3} is {len(list(hailstone(i))): >3}\")\n"
   ]
  },
  {
   "cell_type": "markdown",
   "id": "4bd4ce0e",
   "metadata": {
    "deletable": false,
    "editable": false,
    "nbgrader": {
     "cell_type": "markdown",
     "checksum": "953aaeaa97b2dca21118f6b37f803939",
     "grade": false,
     "grade_id": "question4b",
     "locked": true,
     "schema_version": 3,
     "solution": false,
     "task": false
    }
   },
   "source": [
    "Is there any sequence that does not stop? What would happen in that case?"
   ]
  },
  {
   "cell_type": "markdown",
   "id": "8aa2368c",
   "metadata": {
    "deletable": false,
    "nbgrader": {
     "cell_type": "markdown",
     "checksum": "6e6ed47decffd1867249cfea2e8d7388",
     "grade": true,
     "grade_id": "cell-06d918463e7f7503",
     "locked": false,
     "points": 0,
     "schema_version": 3,
     "solution": true,
     "task": false
    }
   },
   "source": [
    "YOUR ANSWER HERE"
   ]
  },
  {
   "cell_type": "markdown",
   "id": "9a76bc48",
   "metadata": {
    "deletable": false,
    "editable": false,
    "nbgrader": {
     "cell_type": "markdown",
     "checksum": "17b369a8f2259c8ce489cf0d33ad5db5",
     "grade": false,
     "grade_id": "problem5",
     "locked": true,
     "schema_version": 3,
     "solution": false,
     "task": false
    }
   },
   "source": [
    "# Problem 5\n",
    "\n",
    "\n",
    "| parameter | Earth value, $x_{i,\\oplus}$ | weight $w_i$ |\n",
    "|:----------|:----------------------------|:-------------|\n",
    "| radius    | 1.0                         | 0.57         |\n",
    "| density   | 1.0                         | 1.07         |\n",
    "| escape velocity   | 1.0                 | 0.7          |\n",
    "| surface temperature  | 288.0            | 5.58         |\n",
    "\n",
    "The *Earth Similarity Index* (ESI) attempts to quantify the physical similarity between an astronomical body \n",
    "(usually a planet or moon) and Earth. If we have astronomical bodies numbered $j = 0\\ldots n$, then the ESI of \n",
    "the $j$th body is defined by\n",
    "\n",
    "$${\\rm ESI}_j = \\prod_{i=1}^{n} \\left( 1 - \\Big| \\frac{x_{i,j}-x_{i,\\oplus}}{x_{i,j}+x_{i,\\oplus}} \\Big| \\right) ^{w_i/n}$$\n",
    "\n",
    "where the parameters $x_{i,j}$ are described, and their terrestrial values, $x_{i,\\oplus}$ and \n",
    "weights, $w_i$ given in the table above. This means, in the formula the product runs from $1\\ldots n=4$, as we have four parameters. The ESI lies between 0 and 1, with values closer to 1 indicating closer similarity to Earth \n",
    "(which has an ESI of exacvtly 1: Earth is identical to itself!)"
   ]
  },
  {
   "cell_type": "markdown",
   "id": "dd9f6531",
   "metadata": {
    "deletable": false,
    "editable": false,
    "nbgrader": {
     "cell_type": "markdown",
     "checksum": "1408d5de2e07cecf6a6b8fc5be350e5a",
     "grade": false,
     "grade_id": "problem5a",
     "locked": true,
     "schema_version": 3,
     "solution": false,
     "task": false
    }
   },
   "source": [
    "## Problem 5a (15 pts)\n",
    "\n",
    "The file [ex2-6-g-esi-data.txt](https://scipython.com/static/media/problems/P2.6/ex2-6-g-esi-data.txt) contains\n",
    "the earlier mentioned parameters for a range of astronomical bodies. Use these data to\n",
    "calculate the ESI for each of the bodies. \n",
    "\n",
    "> *Note that, the file contains additional parameters that you won't use.* \n",
    "> *You are only interested in the columns with the parameters listed in the table above.*\n",
    ">\n",
    "> *This means when reading the file, you will have to skip the first three rows (the table header)*\n",
    "> *and then extract columns 'radius', 'density', 'v_esc' and 'Tsurf'.*\n",
    "> \n",
    "> *The weights are not part of the file, you will have to create a list of weights manually with the \n",
    "> values given above.*\n",
    "\n",
    "Your solution should produce a table like the following, where the body's name is in a 20 character wide column\n",
    "and the ESI for each body is printed with 3 decimals:\n",
    "\n",
    "``` python\n",
    "Earth                   1.000\n",
    "Mars                    0.697\n",
    "Mercury                 0.595\n",
    "Moon                    0.557\n",
    "...\n",
    "```"
   ]
  },
  {
   "cell_type": "code",
   "execution_count": 3,
   "id": "5b572088",
   "metadata": {
    "deletable": false,
    "nbgrader": {
     "cell_type": "code",
     "checksum": "84d9aee28532dc614fcfd97d48a837c2",
     "grade": false,
     "grade_id": "cell-a322d49d27016019",
     "locked": false,
     "schema_version": 3,
     "solution": true,
     "task": false
    }
   },
   "outputs": [
    {
     "ename": "SyntaxError",
     "evalue": "(unicode error) 'unicodeescape' codec can't decode bytes in position 0-1: truncated \\UXXXXXXXX escape (1055419088.py, line 5)",
     "output_type": "error",
     "traceback": [
      "\u001b[1;36m  Cell \u001b[1;32mIn[3], line 5\u001b[1;36m\u001b[0m\n\u001b[1;33m    f = open(\"\\Users\\carlo\\Downloads/ex2-6-g-esi-data.txt\", \"r\")\u001b[0m\n\u001b[1;37m             ^\u001b[0m\n\u001b[1;31mSyntaxError\u001b[0m\u001b[1;31m:\u001b[0m (unicode error) 'unicodeescape' codec can't decode bytes in position 0-1: truncated \\UXXXXXXXX escape\n"
     ]
    }
   ],
   "source": [
    "# YOUR CODE HERE\n",
    "import math\n",
    "import os\n",
    "print(os.getcwd())\n",
    "f = open(\"\\Users\\carlo\\Downloads/ex2-6-g-esi-data.txt\", \"r\")\n",
    "rader = f.readlines()[3:]\n",
    "\n",
    "def dela(lista, d1, d2):\n",
    "    \"\"\"function that takes in three inputs, first one is a list, second and third is how much to slice away from the beggining and end of each string in the list\"\"\"\n",
    "    n = len(lista)\n",
    "    first_list = [lista[i][0:d1:].strip() for i in range(0, n)]\n",
    "    second_list = [[float(element) for element in lista[i][d1:-d2:].strip().split()] for i in range(0, n)]\n",
    "    return first_list, second_list\n",
    "\n",
    "\n",
    "def trim(list):\n",
    "   for i in range(0, 12):\n",
    "      for j in [7, 5, 3, 0]:\n",
    "        list[i].pop(j)\n",
    "   return list\n",
    "\n",
    "def ESI(data, weights):\n",
    "    n = len(weights)\n",
    "    resultat = []\n",
    "    for i in range(0, len(data)):\n",
    "        delresultat = [(1 - abs((data[i][j] - data[0][j]) / (data[i][j] + data[0][j])))**(weights[j]/len(weights)) for j in range(0, len(weights))]\n",
    "        resultat.append(math.prod(delresultat))\n",
    "    return resultat\n",
    "\n",
    "planeter, data = dela(rader, 16, 2) \n",
    "data = trim(data)\n",
    "weights_planets = [0.57, 1.07, 0.7, 5.58]\n",
    "ESI_values = ESI(data, weights_planets)\n",
    "\n",
    "for i in range(0, 12):\n",
    "    print(f\"{planeter[i].ljust(20)} {ESI_values[i]:.3f}\")\n",
    "\n"
   ]
  },
  {
   "cell_type": "markdown",
   "id": "fa0e5d70",
   "metadata": {
    "deletable": false,
    "editable": false,
    "nbgrader": {
     "cell_type": "markdown",
     "checksum": "6392a9a92c4069769deefe3b42ad4ebc",
     "grade": false,
     "grade_id": "cell-ec436fa747c9dad3",
     "locked": true,
     "schema_version": 3,
     "solution": false,
     "task": false
    }
   },
   "source": [
    "## Problem 5b (3 pts)\n",
    "\n",
    "Which of these astronomical bodies has properties “closest” to those of the Earth?"
   ]
  },
  {
   "cell_type": "markdown",
   "id": "0e261986",
   "metadata": {
    "deletable": false,
    "nbgrader": {
     "cell_type": "markdown",
     "checksum": "04af0b167c3cdab4038aa2af7087835a",
     "grade": true,
     "grade_id": "cell-0f41d739fbb10857",
     "locked": false,
     "points": 3,
     "schema_version": 3,
     "solution": true,
     "task": false
    }
   },
   "source": [
    "Mars"
   ]
  },
  {
   "cell_type": "markdown",
   "id": "43714fd5",
   "metadata": {
    "deletable": false,
    "editable": false,
    "nbgrader": {
     "cell_type": "markdown",
     "checksum": "922af204468b40fad57523f372824981",
     "grade": false,
     "grade_id": "problem6",
     "locked": true,
     "schema_version": 3,
     "solution": false,
     "task": false
    }
   },
   "source": [
    "# Problem 6\n",
    "\n",
    "In this exercise you will use the functions from the previous *matplotlib* exercise set to determine how some of the other planets of the solar system move with respect to the Earth. \n",
    "\n",
    "First we include again the pieces of code and arrays from the previous exercise set that describe the solar system and translate the orbits to cartesian $x, y, $ and $z$ coordinates.\n",
    "\n",
    "*Just run all the code cells up to 'Problem 6a'.*\n",
    "\n",
    "First the basic packages:"
   ]
  },
  {
   "cell_type": "code",
   "execution_count": null,
   "id": "670c4ade",
   "metadata": {
    "deletable": false,
    "editable": false,
    "nbgrader": {
     "cell_type": "code",
     "checksum": "af28da32edd9ec3ac1016c072655d39b",
     "grade": false,
     "grade_id": "cell-584e4a6209daad88",
     "locked": true,
     "schema_version": 3,
     "solution": false,
     "task": false
    }
   },
   "outputs": [],
   "source": [
    "# just run this code cell\n",
    "\n",
    "# first, for later use, import all the necessary packages (redundant if already done earlier)\n",
    "from mpl_toolkits.mplot3d import Axes3D\n",
    "import numpy as np\n",
    "import matplotlib.pyplot as plt"
   ]
  },
  {
   "cell_type": "markdown",
   "id": "1078ab4f",
   "metadata": {
    "deletable": false,
    "editable": false,
    "nbgrader": {
     "cell_type": "markdown",
     "checksum": "87cf498b30b7d425d0d6a29b7ecfa472",
     "grade": false,
     "grade_id": "cell-d638977ef32b286e",
     "locked": true,
     "schema_version": 3,
     "solution": false,
     "task": false
    }
   },
   "source": [
    "## Orbital elements (this is identical to the previous assignment on plotting).\n",
    "\n",
    "Below you are given a dictionary, which contains a list of orbital (elliptical) elements for each planet. \n",
    "\n",
    "For those who are interested (but not required knowledge to solve this problem), these elements are:\n",
    "* $a$ is the semi-major axis of the orbit in astronomical units astronomical units. This will be 1.0 by definition for the Earth.\n",
    "* $e$ the eccentricity of the orbit, between $0\\ldots 1$, the higher the value the more elliptical is the orbit.\n",
    "* $i$ the inclination of the orbit, i.e. the angle between the planet's orbit and the plane of the Earth, in degrees.\n",
    "* $\\omega$ is the longitude of perihelion and defines the orientation of the ellipse in the orbital plane, in degrees.\n",
    "* $\\Omega$ is the longitude of the ascending node, in degrees.\n",
    "* $P$ is the orbital period in units of years, again this is 1.0 for the Earth by definition."
   ]
  },
  {
   "cell_type": "code",
   "execution_count": null,
   "id": "be1d751d",
   "metadata": {
    "deletable": false,
    "editable": false,
    "nbgrader": {
     "cell_type": "code",
     "checksum": "215988156c62c7769ac108e8c3f4ae75",
     "grade": false,
     "grade_id": "cell-c588c0a7220543b8",
     "locked": true,
     "schema_version": 3,
     "solution": false,
     "task": false
    }
   },
   "outputs": [],
   "source": [
    "# just run this cell\n",
    "#       name:  [a, e, incl, peri, node, period]\n",
    "orb_elements = {\n",
    "    \"Mercury\": [0.3871, 0.20564, 7.006, 77.46, 48.34, 0.241],\n",
    "    \"Venus\":   [0.7233, 0.00676, 3.398, 131.77, 76.67, 0.615],\n",
    "    \"Earth\":   [1.0, 0.01673, 0.0, 102.93, 0.0, 1.0],\n",
    "    \"Mars\":    [1.5237, 0.09337, 1.852, 336.08, 49.71, 1.881],\n",
    "    \"Jupiter\": [5.2025, 0.04854, 1.299, 14.27, 100.29, 11.87],\n",
    "    \"Saturn\":  [9.5415, 0.05551, 2.492, 92.86, 113.64, 29.47], \n",
    "    \"Uranus\":  [19.188, 0.04689, 0.773, 172.43, 73.96, 84.05],\n",
    "    \"Neptune\": [30.070, 0.00895, 1.770, 46.68, 131.79, 164.9],\n",
    "    \"Pluto\":   [39.4821, 0.24883, 17.14, 113.76, 110.30, 247.94] \n",
    "}\n"
   ]
  },
  {
   "cell_type": "markdown",
   "id": "1a3023d1",
   "metadata": {
    "deletable": false,
    "editable": false,
    "nbgrader": {
     "cell_type": "markdown",
     "checksum": "d89c6b54bc7adf68aadc640480f81f45",
     "grade": false,
     "grade_id": "cell-cf2b90066652061a",
     "locked": true,
     "schema_version": 3,
     "solution": false,
     "task": false
    }
   },
   "source": [
    "*(Again, this is just copied from the previous assignment.)*\n",
    "\n",
    "## Conversion to Cartesian coordinates\n",
    "\n",
    "The following block of code may be used as \"black box\" to convert from orbital elements to cartesian coordinates \n",
    "$x$, $y$ and $z$ in the Solar system. \n",
    "\n",
    "**Note, that only the first five elements of the orbital parameters of a planet are used, the period is not used.**\n",
    "\n",
    "The last parameter E is known as the eccentric anomaly, which is an angle (in radians) which specifies where in the orbit we are,\n",
    "if should be specified as a single value or as a `numpy` vector for a range of values. \n",
    "*Varying E from 0 to $2\\pi$ takes the planet around a full orbit.*"
   ]
  },
  {
   "cell_type": "code",
   "execution_count": null,
   "id": "54617602",
   "metadata": {
    "deletable": false,
    "editable": false,
    "nbgrader": {
     "cell_type": "code",
     "checksum": "89a6b9396cf3552b82a947a932083f6f",
     "grade": false,
     "grade_id": "cell-9c0372a599528085",
     "locked": true,
     "schema_version": 3,
     "solution": false,
     "task": false
    }
   },
   "outputs": [],
   "source": [
    "# just run this code cell\n",
    "\n",
    "def orbitalElements2Cartesian(a, e, I, peri, node, E):\n",
    "    \"\"\" Convert orbital elements to Cartesian coordinates in the Solar System.\n",
    "\n",
    "    Args: \n",
    "        a (float): semi-major axis (AU)\n",
    "        e (float): eccentricity\n",
    "        I (float): inclination (degrees)\n",
    "        peri (float): longitude of perihelion (degrees)\n",
    "        node (float): longitude of ascending node (degrees)\n",
    "        E (float): eccentric anomaly (radians) ; this can be an array or single value\n",
    "\n",
    "    \"\"\"\n",
    "\n",
    "    # The source of equations used:\n",
    "    # http://farside.ph.utexas.edu/teaching/celestial/Celestialhtml/node34.html\n",
    "        \n",
    "    # Convert degrees to radians (using the map function, but you could have simply used (np.pi * angle/180.).\n",
    "    I, peri, node = map(np.radians, [I, peri, node])\n",
    "\n",
    "    # True anomaly (caculated from E and the eccentricity. Notice that for a circular orbit [e=0] theta and E are identical.\n",
    "    theta = 2*np.arctan(np.sqrt((1.0 + e)/(1.0 - e))*np.tan(E/2.0))\n",
    "\n",
    "    # Distance from the Sun to the point on orbit (notice again that for e=0, this is a circle with radius a)\n",
    "    r = a*(1.0 - e*np.cos(E))\n",
    "\n",
    "    # Cartesian coordinates\n",
    "    x = r*(np.cos(node)*np.cos(peri + theta) - np.sin(node)*np.sin(peri + theta)*np.cos(I))\n",
    "    y = r*(np.sin(node)*np.cos(peri + theta) + np.cos(node)*np.sin(peri + theta)*np.cos(I))\n",
    "    z = r*np.sin(peri + theta)*np.sin(I)\n",
    "\n",
    "    return x, y, z"
   ]
  },
  {
   "cell_type": "markdown",
   "id": "1295e3ea",
   "metadata": {
    "deletable": false,
    "editable": false,
    "nbgrader": {
     "cell_type": "markdown",
     "checksum": "440adc5c84fc1b408e80b629af064238",
     "grade": false,
     "grade_id": "problem6a",
     "locked": true,
     "schema_version": 3,
     "solution": false,
     "task": false
    }
   },
   "source": [
    "## Problem 6a (12 pts)\n",
    "\n",
    "Produce a function `plot_from_Earth` that plots the orbit of a planet **with respect to the Earth**. Do this in the projected $x, y$-plane. \n",
    "The function takes our dictionary from above as its first argument.\n",
    "\n",
    "> Hint: You will need to calculate the position of the Earth as well as the position of the planet **at the same time**.\n",
    "> But note that the periods are different. When Earth's 'eccentric anomaly' (angular position in the orbit) goes\n",
    "> from $E=0$ to $E=2\\pi$ in the course of 1 year, Mars for example takes 1.881 years to do the same.\n",
    "> So when $E_{\\rm earth}=\\pi$, $E_{\\rm mars}=\\pi/1.881$, in other words you will need to calculate\n",
    "> $E_{\\rm planet}=E_{\\rm Earth}/P_{\\rm planet}$ where $P$ is the period.\n",
    "\n",
    "Give your plot a title \"Orbit of planet ... as seen from Earth\", where you fill in the name of the planet for ..."
   ]
  },
  {
   "cell_type": "code",
   "execution_count": null,
   "id": "5c368e74",
   "metadata": {
    "deletable": false,
    "nbgrader": {
     "cell_type": "code",
     "checksum": "25339bd38a9186fc5cabf2ead312337a",
     "grade": false,
     "grade_id": "cell-d2286304cf2e1fd8",
     "locked": false,
     "schema_version": 3,
     "solution": true,
     "task": false
    }
   },
   "outputs": [],
   "source": [
    "def plot_from_Earth(orb_elements, planet=\"Sun\", norbits=2., t=0.):\n",
    "    \"\"\"Plot the orbit of a planet as seen from Earth.\n",
    "\n",
    "    Args:\n",
    "        orb_elements (dict): a dictionary giving the elliptical orbital elements.\n",
    "        planet (str): the name of the planet for which the orbit should be plotted.\n",
    "               Note if this is \"Sun\", you should simply calculate the Cartesian vector of Earth and use its negative.\n",
    "        norbits (float) the number of orbits to plot, default 2.0\n",
    "        t (float) a time (angle) in the interval 0...2*pi, which to mark along the orbit, default 0.0\n",
    "\n",
    "    Returns:\n",
    "        None\n",
    "    \"\"\"\n",
    "    E_earth = np.linspace(0, 2*math.pi*norbits, int(t))\n",
    "    a_e, e_e, incl_e, peri_e, node_e, period_e = orb_elements[\"Earth\"]\n",
    "    x_earth, y_earth, z_earth = orbitalElements2Cartesian(a_e, e_e, incl_e, peri_e, node_e,E_earth)\n",
    "    if planet !=\"Sun\":\n",
    "        E = np.linspace(0, 2*math.pi*norbits / orb_elements[planet][5], int(t))\n",
    "        a, e, incl, peri, node, period = orb_elements[planet]\n",
    "        x, y, z = orbitalElements2Cartesian(a, e, incl, peri, node, E)\n",
    "        x_final = x - x_earth \n",
    "        y_final = y - y_earth\n",
    "    elif planet == \"Sun\":\n",
    "        x_final = -1 * x \n",
    "        y_final = -1 * y\n",
    "\n",
    "    plt.plot(x_final, y_final)\n",
    "    plt.title(f\"Orbit of planet {planet} as seen from Earth\")\n",
    "    \n",
    "    \n",
    "\n",
    "\n",
    "\n",
    "    \n",
    "\n",
    "    \n",
    "    \n",
    "# YOUR CODE HERE\n"
   ]
  },
  {
   "cell_type": "code",
   "execution_count": null,
   "id": "bc48b4f0-4176-4c8b-a23e-7aea9d928763",
   "metadata": {},
   "outputs": [],
   "source": []
  },
  {
   "cell_type": "markdown",
   "id": "7aca59fe",
   "metadata": {
    "deletable": false,
    "editable": false,
    "nbgrader": {
     "cell_type": "markdown",
     "checksum": "6a72c1ff8768581454b9545db76933ad",
     "grade": false,
     "grade_id": "cell-ccdfe5fca6c91b8f",
     "locked": true,
     "schema_version": 3,
     "solution": false,
     "task": false
    }
   },
   "source": [
    "Test your function for planet Mars."
   ]
  },
  {
   "cell_type": "code",
   "execution_count": null,
   "id": "71efe5dd",
   "metadata": {
    "deletable": false,
    "editable": false,
    "nbgrader": {
     "cell_type": "code",
     "checksum": "462ffc29edf1f0d7285222adccec95df",
     "grade": false,
     "grade_id": "cell-7c6f582fb166018f",
     "locked": true,
     "schema_version": 3,
     "solution": false,
     "task": false
    }
   },
   "outputs": [
    {
     "data": {
      "image/png": "[encoded data removed]",
      "text/plain": [
       "<Figure size 640x480 with 1 Axes>"
      ]
     },
     "metadata": {},
     "output_type": "display_data"
    }
   ],
   "source": [
    "plot_from_Earth(orb_elements, planet=\"Mars\", norbits=10.0, t=100)"
   ]
  },
  {
   "cell_type": "markdown",
   "id": "844d37fa",
   "metadata": {
    "deletable": false,
    "editable": false,
    "nbgrader": {
     "cell_type": "markdown",
     "checksum": "d95e53b6085cf61886990382f76fcadc",
     "grade": false,
     "grade_id": "problem6b",
     "locked": true,
     "schema_version": 3,
     "solution": false,
     "task": false
    }
   },
   "source": [
    "## Problem 6b (3 pts)\n",
    "\n",
    "Also produce a second 3D-plot where you can select the viewing angle."
   ]
  },
  {
   "cell_type": "code",
   "execution_count": null,
   "id": "3a8822ca",
   "metadata": {
    "deletable": false,
    "nbgrader": {
     "cell_type": "code",
     "checksum": "68d923f81eb5520acade9d4f7551a8de",
     "grade": false,
     "grade_id": "cell-7df378d2febe9186",
     "locked": false,
     "schema_version": 3,
     "solution": true,
     "task": false
    }
   },
   "outputs": [],
   "source": [
    "from mpl_toolkits.mplot3d import Axes3D\n",
    "\n",
    "def plot_from_Earth3D(orb_elements, planet=\"Sun\", angle1=30.0, angle2=20.0, norbits=2., t=0.):\n",
    "    \"\"\"Same as above but in 3-D.\n",
    "\n",
    "    Additional args:\n",
    "       angle1, angle2 (float) the two angles to use when initializing the 3-D view, defaults 30.0 and 20.0m degress, respectively.\n",
    "    \"\"\"\n",
    "   fig = plt.figure(figsize = (8, 6), dpi = 90)\n",
    "   ax = plt.axes(projection = '3d')\n",
    "#    ax.plot3D(x, y, z)\n",
    "   ax.scatter3D(x, y, z)\n",
    "   ax.view_init(angle2,angle1)\n",
    "# Setting Axis labels\n",
    "   ax.set_xlabel('X-Axis')\n",
    "   ax.set_ylabel('Y-Axis')\n",
    "   ax.set_zlabel('Z-Axis')\n",
    "\n",
    "    "
   ]
  },
  {
   "cell_type": "markdown",
   "id": "9861aa04-ac0f-49d6-b23a-de2b20e26145",
   "metadata": {
    "deletable": false,
    "editable": false,
    "nbgrader": {
     "cell_type": "markdown",
     "checksum": "6fd8ece51f1221a4b344dd3bc4d01d62",
     "grade": false,
     "grade_id": "cell-f92a639b119681f6",
     "locked": true,
     "schema_version": 3,
     "solution": false,
     "task": false
    }
   },
   "source": [
    "Again, test your function."
   ]
  },
  {
   "cell_type": "code",
   "execution_count": null,
   "id": "ae5c02b5",
   "metadata": {
    "deletable": false,
    "editable": false,
    "nbgrader": {
     "cell_type": "code",
     "checksum": "b202cb79b7985abb2e9d4d2ae3774c43",
     "grade": false,
     "grade_id": "cell-818843f61de8df64",
     "locked": true,
     "schema_version": 3,
     "solution": false,
     "task": false
    }
   },
   "outputs": [],
   "source": [
    "plot_from_Earth3D(orb_elements, planet=\"Mars\", angle1=5.0, angle2=20.0, norbits=10.)"
   ]
  },
  {
   "cell_type": "markdown",
   "id": "e4948e36",
   "metadata": {
    "deletable": false,
    "editable": false,
    "nbgrader": {
     "cell_type": "markdown",
     "checksum": "5466e41233b0924ca71099db843d2bc1",
     "grade": false,
     "grade_id": "problem7",
     "locked": true,
     "schema_version": 3,
     "solution": false,
     "task": false
    }
   },
   "source": [
    "# Problem 7\n",
    "\n",
    "Download climate data from https://data.giss.nasa.gov/gistemp/graphs/graph_data/Temperature_Anomalies_over_Land_and_over_Ocean/graph.csv\n",
    "and read in the data, which consists of measurements (both raw and smoothed) of the Mean Surface Air temperature anomaly over the Ocean and over Land areas. The description of the columns is provided in the file. Temperature anomaly means that it is the temperature difference with respect to an average. In this case the average temperature is that in the interval of 1951-1980. "
   ]
  },
  {
   "cell_type": "markdown",
   "id": "b3064918",
   "metadata": {
    "deletable": false,
    "editable": false,
    "nbgrader": {
     "cell_type": "markdown",
     "checksum": "c504438106682f8f3bb317e54754e4db",
     "grade": false,
     "grade_id": "problem7a",
     "locked": true,
     "schema_version": 3,
     "solution": false,
     "task": false
    }
   },
   "source": [
    "## Problem 7a (5 pts)\n",
    "\n",
    "- Use `data = np.loadtxt(...)` to read the file and store the result in variable `data`. \n",
    "- Make a scatter plot of the measured anomalies (second and forth column) as a function of year (first column).\n",
    "- Provide a title to the figure and axis-labels as well as a legend identifying the Ocean and Land area measurements.\n",
    "- Add the smoothed data (third and fifth column) as lines (with legend).\n",
    "- Add a dashed line through $y=0$\n",
    "\n",
    "> Note, since this is a comma-separated (csv) file, you will need to use `delimiter=','` in `np.loadtxt` and argument `skiprows` \n",
    "> to skip the two header lines"
   ]
  },
  {
   "cell_type": "code",
   "execution_count": null,
   "id": "5f83894f",
   "metadata": {
    "deletable": false,
    "nbgrader": {
     "cell_type": "code",
     "checksum": "483d22d5646803a5f635299d58818d4c",
     "grade": false,
     "grade_id": "cell-dd01236787d4eaf6",
     "locked": false,
     "schema_version": 3,
     "solution": true,
     "task": false
    }
   },
   "outputs": [
    {
     "data": {
      "text/plain": [
       "<matplotlib.legend.Legend at 0x287f8cd67e0>"
      ]
     },
     "execution_count": 99,
     "metadata": {},
     "output_type": "execute_result"
    },
    {
     "data": {
      "image/png": "[encoded data removed]",
      "text/plain": [
       "<Figure size 640x480 with 1 Axes>"
      ]
     },
     "metadata": {},
     "output_type": "display_data"
    }
   ],
   "source": [
    "import numpy as np\n",
    "\n",
    "# YOUR CODE HER\n",
    "data = np.loadtxt('graph.csv', delimiter=',', skiprows=2)\n",
    "\n",
    "year = np.array([data[i , 0] for i in range(0,len(data))])\n",
    "second_column = np.array([data[i, 1] for i in range(0,len(data))])\n",
    "fourth_column = np.array([data[i, 3] for i in range(0, len(data))])\n",
    "third_column = np.array([data[i, 2] for i in range(0, len(data))])\n",
    "fifth_column = np.array([data[i, 4] for i in range(0, len(data))])\n",
    "\n",
    "\n",
    "plt.scatter(year, second_column, label='Land')\n",
    "plt.scatter(year, fourth_column, color='red', label='Ocean')\n",
    "plt.plot(year, third_column, label = 'LandLow', color='yellow', linewidth=3)\n",
    "plt.plot(year, fifth_column, label = 'OceanLow', color = 'Orange', linewidth=3)\n",
    "\n",
    "plt.title('Land vs Ocean Anomalies')\n",
    "plt.axhline(0, color='black', linestyle='--', linewidth=1.5)\n",
    "plt.xlabel('Year')\n",
    "plt.ylabel('Mean Surface Temp')\n",
    "\n",
    "plt.legend()"
   ]
  },
  {
   "cell_type": "code",
   "execution_count": null,
   "id": "e13aea1c",
   "metadata": {
    "deletable": false,
    "nbgrader": {
     "cell_type": "code",
     "checksum": "8a5de0be9d32d5e03a202c10145b40c8",
     "grade": false,
     "grade_id": "cell-024368ed6c017353",
     "locked": false,
     "schema_version": 3,
     "solution": true,
     "task": false
    }
   },
   "outputs": [
    {
     "ename": "NotImplementedError",
     "evalue": "",
     "output_type": "error",
     "traceback": [
      "\u001b[1;31m---------------------------------------------------------------------------\u001b[0m",
      "\u001b[1;31mNotImplementedError\u001b[0m                       Traceback (most recent call last)",
      "\u001b[1;32mc:\\Users\\carlo\\Downloads\\Programmering_python\\plottningprojekt\\SEE125_Final_LP2.ipynb Cell 55\u001b[0m line \u001b[0;36m4\n\u001b[0;32m      <a href='vscode-notebook-cell:/c%3A/Users/carlo/Downloads/Programmering_python/plottningprojekt/SEE125_Final_LP2.ipynb#Y105sZmlsZQ%3D%3D?line=0'>1</a>\u001b[0m \u001b[39mimport\u001b[39;00m \u001b[39mmatplotlib\u001b[39;00m\u001b[39m.\u001b[39;00m\u001b[39mpyplot\u001b[39;00m \u001b[39mas\u001b[39;00m \u001b[39mplt\u001b[39;00m\n\u001b[0;32m      <a href='vscode-notebook-cell:/c%3A/Users/carlo/Downloads/Programmering_python/plottningprojekt/SEE125_Final_LP2.ipynb#Y105sZmlsZQ%3D%3D?line=2'>3</a>\u001b[0m \u001b[39m# YOUR CODE HERE\u001b[39;00m\n\u001b[1;32m----> <a href='vscode-notebook-cell:/c%3A/Users/carlo/Downloads/Programmering_python/plottningprojekt/SEE125_Final_LP2.ipynb#Y105sZmlsZQ%3D%3D?line=3'>4</a>\u001b[0m \u001b[39mraise\u001b[39;00m \u001b[39mNotImplementedError\u001b[39;00m()\n",
      "\u001b[1;31mNotImplementedError\u001b[0m: "
     ]
    }
   ],
   "source": [
    "import matplotlib.pyplot as plt\n",
    "\n",
    "# YOUR CODE HERE\n",
    "raise NotImplementedError()\n"
   ]
  },
  {
   "cell_type": "markdown",
   "id": "9944cd22",
   "metadata": {
    "deletable": false,
    "editable": false,
    "nbgrader": {
     "cell_type": "markdown",
     "checksum": "2a4287325cc8bdd0bb2b98e9676e9076",
     "grade": false,
     "grade_id": "problem7b",
     "locked": true,
     "schema_version": 3,
     "solution": false,
     "task": false
    }
   },
   "source": [
    "## Problem 7b (7 pts)\n",
    "\n",
    "- Now create a new plot where you plot, for each year (except the first), the difference to the previous year\n",
    "  ($\\Delta T_{\\rm anomaly} = T_{\\rm anomaly}(t)-T_{\\rm anomaly}(t-1)$, where $t$ is the year. This will require some array manipulation).\n",
    "  Do this for the Ocean and Land data as well as the smoothed data."
   ]
  },
  {
   "cell_type": "code",
   "execution_count": null,
   "id": "b6d5494a",
   "metadata": {
    "deletable": false,
    "nbgrader": {
     "cell_type": "code",
     "checksum": "68352c1fd09a40acdb08329d3b95b358",
     "grade": false,
     "grade_id": "cell-4c5ae1773ab58d56",
     "locked": false,
     "schema_version": 3,
     "solution": true,
     "task": false
    }
   },
   "outputs": [
    {
     "data": {
      "text/plain": [
       "<matplotlib.legend.Legend at 0x287fcaef740>"
      ]
     },
     "execution_count": 100,
     "metadata": {},
     "output_type": "execute_result"
    },
    {
     "data": {
      "image/png": "[encoded data removed]",
      "text/plain": [
       "<Figure size 640x480 with 1 Axes>"
      ]
     },
     "metadata": {},
     "output_type": "display_data"
    }
   ],
   "source": [
    "# YOUR CODE HERE\n",
    "delta_year = np.delete(year, 0)\n",
    "delta_second_column = second_column[1:] - second_column[:-1]\n",
    "delta_third_column = third_column[1:] - third_column[:-1]\n",
    "delta_fourth_column = fourth_column[1:] - fourth_column[:-1] \n",
    "delta_fifth_column = fifth_column[1:] - fifth_column[:-1]\n",
    "\n",
    "\n",
    "\n",
    "plt.scatter(delta_year, delta_second_column, label='Land')\n",
    "plt.scatter(delta_year, delta_fourth_column, color='red', label='Ocean')\n",
    "plt.plot(delta_year, delta_third_column, label = 'LandLow', color='yellow', linewidth=3)\n",
    "plt.plot(delta_year, delta_fifth_column, label = 'OceanLow', color = 'Orange', linewidth=3)\n",
    "\n",
    "plt.title('Land vs Ocean Anomalies')\n",
    "plt.axhline(0, color='black', linestyle='--', linewidth=1.5)\n",
    "plt.xlabel('Year')\n",
    "plt.ylabel('Mean Surface Temp')\n",
    "\n",
    "plt.legend()\n"
   ]
  },
  {
   "cell_type": "markdown",
   "id": "12f7469a",
   "metadata": {
    "deletable": false,
    "editable": false,
    "nbgrader": {
     "cell_type": "markdown",
     "checksum": "f7741d8e0704429e77706789ddf2ad1d",
     "grade": false,
     "grade_id": "problem7c",
     "locked": true,
     "schema_version": 3,
     "solution": false,
     "task": false
    }
   },
   "source": [
    "## Problem 7c (3 pts)\n",
    "\n",
    "- Create a histogram of the difference anomaly you calculated above for the 2nd plot of this problem. Use 20 bins and a range of `[-0.5, 0.5]`.\n",
    "  Plot land and ocean observations with different colors, include a legend and add a vertical line for $x = 0$. \n",
    "\n",
    "> *Tip: use the ```alpha``` parameter of ```plt.hist``` to set the transparency of the histograms, because they will overlap.*"
   ]
  },
  {
   "cell_type": "code",
   "execution_count": null,
   "id": "12e42395",
   "metadata": {
    "deletable": false,
    "nbgrader": {
     "cell_type": "code",
     "checksum": "e97c3aae66d0a42052ea3005aa2c8144",
     "grade": false,
     "grade_id": "cell-6b0992c65f570be1",
     "locked": false,
     "schema_version": 3,
     "solution": true,
     "task": false
    }
   },
   "outputs": [
    {
     "data": {
      "image/png": "[encoded data removed]",
      "text/plain": [
       "<Figure size 640x480 with 1 Axes>"
      ]
     },
     "metadata": {},
     "output_type": "display_data"
    }
   ],
   "source": [
    "# YOUR CODE HERE\n",
    "bin = np.linspace(-0.5, 0.5, 20)\n",
    "\n",
    "plt.hist(delta_second_column, bins = bin, color=\"blue\", alpha=0.7)\n",
    "plt.hist(delta_fourth_column, bins = bin, color=\"red\", alpha=0.7)\n",
    "plt.show()"
   ]
  },
  {
   "cell_type": "markdown",
   "id": "2eb5eb8f",
   "metadata": {
    "deletable": false,
    "editable": false,
    "nbgrader": {
     "cell_type": "markdown",
     "checksum": "3c93f147474fed119778764d1bbdcd10",
     "grade": false,
     "grade_id": "problem7d",
     "locked": true,
     "schema_version": 3,
     "solution": false,
     "task": false
    }
   },
   "source": [
    "## Problem 7d (5 pts)\n",
    "\n",
    "- Calculate and print the ratio of positive over negative difference anomalies ($\\Delta T_{\\rm anomaly}$) for both Ocean and Land. \n",
    "\n",
    "> *Tip: use a combination of ```np.where``` and ```np.shape```*\n",
    "\n",
    "Call your results `land_ratio` and `ocean_ratio`, respectively.\n",
    "\n",
    "The answers should be $1.226$ above land (`land_ratio`) and $1.000$ above the Oceans (`ocean_ratio`). "
   ]
  },
  {
   "cell_type": "code",
   "execution_count": null,
   "id": "e5e53bf0",
   "metadata": {
    "deletable": false,
    "nbgrader": {
     "cell_type": "code",
     "checksum": "6be4676752285ed2b3ed65e492ba8752",
     "grade": false,
     "grade_id": "cell-6eabb1facf376176",
     "locked": false,
     "schema_version": 3,
     "solution": true,
     "task": false
    }
   },
   "outputs": [],
   "source": [
    "# YOUR CODE HERE\n",
    "positiv_ratio = np.where(delta_second_column > 0)\n",
    "negativ_ratio = np.where(delta_second_column < 0)\n",
    "positiv_count = np.shape(positiv_ratio)[1]  \n",
    "negativ_count = np.shape(negativ_ratio)[1]\n",
    "land_ratio = positiv_count / negativ_count\n",
    "\n",
    "positiv_ratio = np.where(delta_fourth_column > 0)\n",
    "negativ_ratio = np.where(delta_fourth_column < 0)\n",
    "positiv_count = np.shape(positiv_ratio)[1]  \n",
    "negativ_count = np.shape(negativ_ratio)[1]\n",
    "ocean_ratio = positiv_count / negativ_count"
   ]
  },
  {
   "cell_type": "code",
   "execution_count": null,
   "id": "da0b1c96",
   "metadata": {},
   "outputs": [],
   "source": [
    "assert abs(land_ratio - 1.226) < 1.0e-3 \n",
    "assert abs(ocean_ratio - 1.000) < 1.0e-3"
   ]
  },
  {
   "cell_type": "markdown",
   "id": "8b7d58cf",
   "metadata": {
    "deletable": false,
    "editable": false,
    "nbgrader": {
     "cell_type": "markdown",
     "checksum": "05f3b07e7012da8d3887c78351c0d4c1",
     "grade": false,
     "grade_id": "cell-5abff5d1c6f2e835",
     "locked": true,
     "schema_version": 3,
     "solution": false,
     "task": false
    }
   },
   "source": [
    "# Problem 8 (10 pts)\n",
    "\n",
    "You have seen how to make subplots using ```plt.subplots()```. Here you will make three subplots showing a function and its first and second derivative.\n",
    "\n",
    "- Create a `numpy`  array with at least 100 equally spaced points from $[0,2\\pi]$\n",
    "- Create a function $f=2\\sin^2{x}-1$\n",
    "- Create a figure with 3 subplots **above each-other**, sharing the x-axis.\n",
    "- Plot the function $f$ in the top panel\n",
    "- Plot the derivative (simplified here by taking $f'(x') = {{f_{i+1}-f_{i}}\\over{x_{i+1}-x_{i}}}$,\n",
    "  where $x'$ is in the middle between $x_{i+1}$ and $x_i$) in the middle panel. \n",
    "- Plot the 2nd derivative $f''$ in the bottom panel (you can use your own defined function twice in this case).\n",
    "- Give the whole figure a title \"Plot of $f(x)$ and derivatives\".\n",
    "\n",
    "> Hint: You should write a function for the derivative.\n",
    "> Use a function that takes the arrays for $x$ and $f(x)$ as inputs and returns two arrays:  $x'=(x_{i+1}+x_{i})/2$ **and** $f'(x')$.\n",
    "> These arrays will be one element shorter than the input array, since we cannot calculate the values for the last point of the input array."
   ]
  },
  {
   "cell_type": "code",
   "execution_count": null,
   "id": "da0779a9",
   "metadata": {
    "deletable": false,
    "nbgrader": {
     "cell_type": "code",
     "checksum": "eb3b49536ba51f8f01c1ead01ccadc03",
     "grade": false,
     "grade_id": "cell-903b33507d683e6c",
     "locked": false,
     "schema_version": 3,
     "solution": true,
     "task": false
    }
   },
   "outputs": [
    {
     "data": {
      "image/png": "[encoded data removed]",
      "text/plain": [
       "<Figure size 640x480 with 3 Axes>"
      ]
     },
     "metadata": {},
     "output_type": "display_data"
    }
   ],
   "source": [
    "# YOUR CODE HERE\n",
    "fig, ax = plt.subplots(3, sharex=True, sharey=True)\n",
    "\n",
    "x_dat = np.linspace(0, 2*math.pi, 100)\n",
    "y_dat = 2 * np.sin(x_dat)**2 - 1\n",
    "ax[0].plot(x_dat, y_dat)\n",
    "ax[0].set_title('f(x)')\n",
    "\n",
    "def derivate(x, y):\n",
    "    x_prim = [(x[i + 1] + x[i]) / 2 for i in range(0, len(x) - 1)]\n",
    "    y_prim = [(y[i + 1] - y[i]) / (x[i + 1] - x[i]) for i in range(0, len(x) - 1)]\n",
    "    return x_prim, y_prim\n",
    "\n",
    "x_pri, y_pri = derivate(x_dat, y_dat)\n",
    "ax[1].plot(x_pri, y_pri)\n",
    "ax[1].set_title('First derivate')\n",
    "\n",
    "x_bis, y_bis = derivate(x_pri, y_pri)\n",
    "ax[2].plot(x_bis, y_bis)\n",
    "ax[2].set_title('Second derivate')\n",
    "\n",
    "fig.suptitle('Plot of f(x) and its derivatives')\n",
    "\n",
    "plt.show()\n"
   ]
  },
  {
   "cell_type": "code",
   "execution_count": null,
   "id": "1de97ab3",
   "metadata": {
    "deletable": false,
    "nbgrader": {
     "cell_type": "code",
     "checksum": "215e35e9cce573bb19262c369ae5c88f",
     "grade": false,
     "grade_id": "cell-82fc6ffbd3d50df0",
     "locked": false,
     "schema_version": 3,
     "solution": true,
     "task": false
    }
   },
   "outputs": [],
   "source": [
    "# YOUR CODE HERE\n",
    "raise NotImplementedError()"
   ]
  }
 ],
 "metadata": {
  "kernelspec": {
   "display_name": "Python 3 (ipykernel)",
   "language": "python",
   "name": "python3"
  },
  "language_info": {
   "codemirror_mode": {
    "name": "ipython",
    "version": 3
   },
   "file_extension": ".py",
   "mimetype": "text/x-python",
   "name": "python",
   "nbconvert_exporter": "python",
   "pygments_lexer": "ipython3",
   "version": "3.12.0"
  }
 },
 "nbformat": 4,
 "nbformat_minor": 5
}
